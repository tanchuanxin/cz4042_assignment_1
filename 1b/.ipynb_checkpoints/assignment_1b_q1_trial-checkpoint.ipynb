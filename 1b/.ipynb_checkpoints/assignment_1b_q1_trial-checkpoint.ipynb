{
 "cells": [
  {
   "cell_type": "markdown",
   "metadata": {},
   "source": [
    "# Welcome\n",
    "\n",
    "This notebook shall answer assignment_1b question 1.\n",
    "\n",
    "# Table of Contents <a name=\"toc\"></a>\n",
    "\n",
    "* [Imports](#imports)\n",
    "* [Global](#global)\n",
    "* [Helper Functions](#helper_functions)\n",
    "* [Question 1: Convergence](#convergence)\n",
    "    * [Model Parameters](#model_parameters)\n",
    "    * [Create the Model](#create_the_model)\n",
    "    * [Run the Model](#run_the_model)\n",
    "    * [Save Data Objects](#save_data_objects)\n",
    "    * [Plot Model Performance](#plot_model_performance)\n",
    "    * [Comparing Models](#comparing_models)\n",
    "    * [Eyeballing Convergence](#eyeballing_convergence)\n",
    "* [Conclusion](#conclusion)\n",
    "    * [Try Test Set](#try_test_set)"
   ]
  },
  {
   "cell_type": "markdown",
   "metadata": {},
   "source": [
    "# Imports <a name=\"imports\"></a> \n",
    "[Back to top](#toc)"
   ]
  },
  {
   "cell_type": "code",
   "execution_count": 1,
   "metadata": {},
   "outputs": [],
   "source": [
    "import tensorflow as tf\n",
    "import numpy as np\n",
    "import matplotlib.pyplot as plt\n",
    "import pandas as pd\n",
    "import seaborn as sns\n",
    "import json\n",
    "\n",
    "from tensorflow import keras\n",
    "from tqdm.keras import TqdmCallback\n",
    "from sklearn import preprocessing\n",
    "from sklearn.model_selection import train_test_split"
   ]
  },
  {
   "cell_type": "code",
   "execution_count": 2,
   "metadata": {},
   "outputs": [
    {
     "name": "stdout",
     "output_type": "stream",
     "text": [
      "Data loaded\n"
     ]
    }
   ],
   "source": [
    "X_train = np.load('data/X_train.npy')\n",
    "X_test = np.load('data/X_test.npy')\n",
    "Y_train = np.load('data/Y_train.npy')\n",
    "Y_test = np.load('data/Y_test.npy')\n",
    "print(\"Data loaded\")"
   ]
  },
  {
   "cell_type": "markdown",
   "metadata": {},
   "source": [
    "# Global <a name=\"global\"></a> \n",
    "[Back to top](#toc)"
   ]
  },
  {
   "cell_type": "code",
   "execution_count": 3,
   "metadata": {},
   "outputs": [],
   "source": [
    "seed = 10\n",
    "np.random.seed(seed)\n",
    "tf.random.set_seed(seed)\n",
    "\n",
    "# data objects\n",
    "histories = {}"
   ]
  },
  {
   "cell_type": "markdown",
   "metadata": {},
   "source": [
    "# Helper Functions <a name=\"helper_functions\"></a> \n",
    "[Back to top](#toc)"
   ]
  },
  {
   "cell_type": "markdown",
   "metadata": {},
   "source": [
    "### plot_history_object()"
   ]
  },
  {
   "cell_type": "code",
   "execution_count": 4,
   "metadata": {},
   "outputs": [],
   "source": [
    "def plot_history_object(histories, model_name, history_object, max=None):   \n",
    "    if max == None:\n",
    "        plt.plot(histories[model_name][history_object], label='train_'+history_object)\n",
    "#         plt.plot(histories[model_name]['val_'+history_object], label='val_'+history_object)\n",
    "    else:\n",
    "        plt.plot(histories[model_name][history_object][:max], label='train_'+history_object)\n",
    "#         plt.plot(histories[model_name]['val_'+history_object][:max], label='val_'+history_object)\n",
    "    plt.ylabel(history_object)\n",
    "    plt.xlabel('No. epoch')\n",
    "    plt.legend(loc=\"center right\")\n",
    "    plt.show()"
   ]
  },
  {
   "cell_type": "markdown",
   "metadata": {},
   "source": [
    "### histories_saver()"
   ]
  },
  {
   "cell_type": "code",
   "execution_count": 5,
   "metadata": {},
   "outputs": [],
   "source": [
    "# filename like 'data/histories_q1.json'\n",
    "def histories_saver(histories, filename):\n",
    "    histories_json = {}\n",
    "    for key in histories.keys():\n",
    "        histories_json[key] = histories[key].history\n",
    "\n",
    "    with open(filename, 'w') as file:\n",
    "        json.dump(histories_json, file)\n",
    "\n",
    "    print(\"Histories saved\")"
   ]
  },
  {
   "cell_type": "markdown",
   "metadata": {},
   "source": [
    "# Question 1: Convergence  <a name=\"convergence\"></a>\n",
    "[Back to top](#toc)\n",
    "\n",
    "<i>Design a 3-layer feedforward neural network consists of an input layer, a hidden-layer of 10 neurons having ReLU activation functions, and a linear output layer. Use mini-batch gradient descent with a batch size = 8, 𝐿2 regularization at weight decay parameter 𝛽 = 10−3 and a learning rate 𝛼 = 10−3 to train the network.\n",
    "\n",
    "* a) Use the train dataset to train the model and plot both the train and test errors against epochs.\n",
    "* b) State the approximate number of epochs where the test error is minimum and use it to stop training.\n",
    "* c) Plot the predicted values and target values for any 50 test samples.</i>"
   ]
  },
  {
   "cell_type": "markdown",
   "metadata": {},
   "source": [
    "### Model Parameters <a name=\"model_parameters\"></a> \n",
    "[Back to top](#toc)"
   ]
  },
  {
   "cell_type": "code",
   "execution_count": 6,
   "metadata": {},
   "outputs": [
    {
     "name": "stdout",
     "output_type": "stream",
     "text": [
      "Model Parameters set\n"
     ]
    }
   ],
   "source": [
    "num_neurons = 10\n",
    "\n",
    "weight_decay_parameter = 10e-3\n",
    "regularization = keras.regularizers.l2(weight_decay_parameter)\n",
    "\n",
    "optimizer = 'sgd'\n",
    "loss = keras.losses.MeanSquaredError()\n",
    "metrics = ['mse']\n",
    "\n",
    "epochs = 500\n",
    "learning_rate = 10e-3\n",
    "batch_size = 8\n",
    "\n",
    "# callbacks = [TqdmCallback(verbose=1)]\n",
    "# callbacks = [TqdmCallback(verbose=1), tf.keras.callbacks.EarlyStopping(monitor='loss', patience=10)]\n",
    "\n",
    "print(\"Model Parameters set\")"
   ]
  },
  {
   "cell_type": "markdown",
   "metadata": {},
   "source": [
    "### Create the model <a name=\"create_the_model\"></a> \n",
    "[Back to top](#toc)"
   ]
  },
  {
   "cell_type": "code",
   "execution_count": 7,
   "metadata": {},
   "outputs": [],
   "source": [
    "def create_model(num_neurons, regularization, optimizer, loss, metrics):\n",
    "    model = keras.Sequential([\n",
    "        keras.layers.Dense(num_neurons, activation='relu', kernel_regularizer=regularization, bias_regularizer=regularization),\n",
    "        keras.layers.Dense(1, activation='linear')\n",
    "    ])\n",
    "    \n",
    "    model.compile(optimizer=optimizer,\n",
    "              loss=loss,\n",
    "              metrics=metrics)\n",
    "    \n",
    "    print(\"Model created\")\n",
    "    return model"
   ]
  },
  {
   "cell_type": "markdown",
   "metadata": {},
   "source": [
    "### Run the model <a name=\"run_the_model\"></a> \n",
    "[Back to top](#toc)"
   ]
  },
  {
   "cell_type": "code",
   "execution_count": 8,
   "metadata": {},
   "outputs": [
    {
     "name": "stdout",
     "output_type": "stream",
     "text": [
      "Model created\n"
     ]
    },
    {
     "data": {
      "application/vnd.jupyter.widget-view+json": {
       "model_id": "940226ef5393442a923349c9059ef542",
       "version_major": 2,
       "version_minor": 0
      },
      "text/plain": [
       "HBox(children=(HTML(value=''), FloatProgress(value=1.0, bar_style='info', layout=Layout(width='20px'), max=1.0…"
      ]
     },
     "metadata": {},
     "output_type": "display_data"
    },
    {
     "data": {
      "application/vnd.jupyter.widget-view+json": {
       "model_id": "",
       "version_major": 2,
       "version_minor": 0
      },
      "text/plain": [
       "HBox(children=(HTML(value=''), FloatProgress(value=1.0, bar_style='info', layout=Layout(width='20px'), max=1.0…"
      ]
     },
     "metadata": {},
     "output_type": "display_data"
    },
    {
     "name": "stdout",
     "output_type": "stream",
     "text": [
      "\n"
     ]
    }
   ],
   "source": [
    "model = create_model(num_neurons, regularization, optimizer, loss, metrics)\n",
    "\n",
    "callbacks = [TqdmCallback(verbose=1)]\n",
    "model_name = 'convergence_test_1'\n",
    "\n",
    "histories[model_name] = model.fit(X_train, Y_train,\n",
    "                                        epochs=epochs,\n",
    "                                        verbose = 0,\n",
    "                                        batch_size=batch_size,\n",
    "                                        callbacks=callbacks)"
   ]
  },
  {
   "cell_type": "code",
   "execution_count": 9,
   "metadata": {},
   "outputs": [
    {
     "name": "stdout",
     "output_type": "stream",
     "text": [
      "Model created\n"
     ]
    },
    {
     "data": {
      "application/vnd.jupyter.widget-view+json": {
       "model_id": "c8460e94551a40dd86215d060442808a",
       "version_major": 2,
       "version_minor": 0
      },
      "text/plain": [
       "HBox(children=(HTML(value=''), FloatProgress(value=1.0, bar_style='info', layout=Layout(width='20px'), max=1.0…"
      ]
     },
     "metadata": {},
     "output_type": "display_data"
    },
    {
     "data": {
      "application/vnd.jupyter.widget-view+json": {
       "model_id": "",
       "version_major": 2,
       "version_minor": 0
      },
      "text/plain": [
       "HBox(children=(HTML(value=''), FloatProgress(value=1.0, bar_style='info', layout=Layout(width='20px'), max=1.0…"
      ]
     },
     "metadata": {},
     "output_type": "display_data"
    },
    {
     "name": "stdout",
     "output_type": "stream",
     "text": [
      "\n"
     ]
    }
   ],
   "source": [
    "model = create_model(num_neurons, regularization, optimizer, loss, metrics)\n",
    "\n",
    "callbacks = [TqdmCallback(verbose=1), tf.keras.callbacks.EarlyStopping(monitor='loss', patience=5)]\n",
    "model_name = 'convergence_test_2'\n",
    "\n",
    "histories[model_name] = model.fit(X_train, Y_train,\n",
    "                                        epochs=epochs,\n",
    "                                        verbose = 0,\n",
    "                                        batch_size=batch_size,\n",
    "                                        callbacks=callbacks)"
   ]
  },
  {
   "cell_type": "code",
   "execution_count": 10,
   "metadata": {},
   "outputs": [
    {
     "name": "stdout",
     "output_type": "stream",
     "text": [
      "Model created\n"
     ]
    },
    {
     "data": {
      "application/vnd.jupyter.widget-view+json": {
       "model_id": "2da4a3e1da0943c69b1aebd7d72f9c4b",
       "version_major": 2,
       "version_minor": 0
      },
      "text/plain": [
       "HBox(children=(HTML(value=''), FloatProgress(value=1.0, bar_style='info', layout=Layout(width='20px'), max=1.0…"
      ]
     },
     "metadata": {},
     "output_type": "display_data"
    },
    {
     "data": {
      "application/vnd.jupyter.widget-view+json": {
       "model_id": "",
       "version_major": 2,
       "version_minor": 0
      },
      "text/plain": [
       "HBox(children=(HTML(value=''), FloatProgress(value=1.0, bar_style='info', layout=Layout(width='20px'), max=1.0…"
      ]
     },
     "metadata": {},
     "output_type": "display_data"
    },
    {
     "name": "stdout",
     "output_type": "stream",
     "text": [
      "\n"
     ]
    }
   ],
   "source": [
    "model = create_model(num_neurons, regularization, optimizer, loss, metrics)\n",
    "\n",
    "callbacks = [TqdmCallback(verbose=1), tf.keras.callbacks.EarlyStopping(monitor='loss', patience=10)]\n",
    "model_name = 'convergence_test_3'\n",
    "\n",
    "histories[model_name] = model.fit(X_train, Y_train,\n",
    "                                        epochs=epochs,\n",
    "                                        verbose = 0,\n",
    "                                        batch_size=batch_size,\n",
    "                                        callbacks=callbacks)"
   ]
  },
  {
   "cell_type": "markdown",
   "metadata": {},
   "source": [
    "### Save Data Objects <a name=\"save_data_objects\"></a> \n",
    "[Back to top](#toc)"
   ]
  },
  {
   "cell_type": "code",
   "execution_count": 11,
   "metadata": {},
   "outputs": [
    {
     "name": "stdout",
     "output_type": "stream",
     "text": [
      "Histories saved\n"
     ]
    }
   ],
   "source": [
    "histories_saver(histories, \"data/histories_q1.json\")"
   ]
  },
  {
   "cell_type": "code",
   "execution_count": 33,
   "metadata": {},
   "outputs": [
    {
     "name": "stdout",
     "output_type": "stream",
     "text": [
      "histories reloaded\n"
     ]
    }
   ],
   "source": [
    "with open('data/histories_q1.json') as json_file:\n",
    "    histories = json.load(json_file)\n",
    "print('histories reloaded')"
   ]
  },
  {
   "cell_type": "markdown",
   "metadata": {},
   "source": [
    "### Plot Model Performance <a name=\"plot_model_performance\"></a> \n",
    "[Back to top](#toc)"
   ]
  },
  {
   "cell_type": "code",
   "execution_count": 37,
   "metadata": {
    "scrolled": true
   },
   "outputs": [
    {
     "data": {
      "image/png": "[encoded data removed]",
      "text/plain": [
       "<Figure size 432x288 with 1 Axes>"
      ]
     },
     "metadata": {
      "needs_background": "light"
     },
     "output_type": "display_data"
    },
    {
     "data": {
      "image/png": "[encoded data removed]",
      "text/plain": [
       "<Figure size 432x288 with 1 Axes>"
      ]
     },
     "metadata": {
      "needs_background": "light"
     },
     "output_type": "display_data"
    }
   ],
   "source": [
    "model_name = 'convergence_test_1'\n",
    "plot_history_object(histories, model_name, 'loss')\n",
    "plot_history_object(histories, model_name, 'mse')"
   ]
  },
  {
   "cell_type": "code",
   "execution_count": 38,
   "metadata": {
    "scrolled": true
   },
   "outputs": [
    {
     "data": {
      "image/png": "[encoded data removed]",
      "text/plain": [
       "<Figure size 432x288 with 1 Axes>"
      ]
     },
     "metadata": {
      "needs_background": "light"
     },
     "output_type": "display_data"
    },
    {
     "data": {
      "image/png": "[encoded data removed]",
      "text/plain": [
       "<Figure size 432x288 with 1 Axes>"
      ]
     },
     "metadata": {
      "needs_background": "light"
     },
     "output_type": "display_data"
    }
   ],
   "source": [
    "model_name = 'convergence_test_2'\n",
    "plot_history_object(histories, model_name, 'loss')\n",
    "plot_history_object(histories, model_name, 'mse')"
   ]
  },
  {
   "cell_type": "code",
   "execution_count": 40,
   "metadata": {
    "scrolled": true
   },
   "outputs": [
    {
     "data": {
      "image/png": "[encoded data removed]",
      "text/plain": [
       "<Figure size 432x288 with 1 Axes>"
      ]
     },
     "metadata": {
      "needs_background": "light"
     },
     "output_type": "display_data"
    },
    {
     "data": {
      "image/png": "[encoded data removed]",
      "text/plain": [
       "<Figure size 432x288 with 1 Axes>"
      ]
     },
     "metadata": {
      "needs_background": "light"
     },
     "output_type": "display_data"
    }
   ],
   "source": [
    "model_name = 'convergence_test_3'\n",
    "plot_history_object(histories, model_name, 'loss')\n",
    "plot_history_object(histories, model_name, 'mse')"
   ]
  },
  {
   "cell_type": "markdown",
   "metadata": {},
   "source": [
    "### Comparing Models <a name=\"comparing_models\"></a> \n",
    "[Back to top](#toc)"
   ]
  },
  {
   "cell_type": "markdown",
   "metadata": {},
   "source": [
    "* <i>No early stopping - 500 epochs</i>\n",
    "\n",
    "loss=0.00379, mse=0.00332\n",
    "\n",
    "* <i>Early stopping - patience 5, 496 epochs</i>\n",
    "\n",
    "loss=0.00398, mse=0.00334\n",
    "\n",
    "* <i>Early stopping - patience 10, 500 epochs</i>\n",
    "\n",
    "loss=0.00382, mse=0.00336"
   ]
  },
  {
   "cell_type": "markdown",
   "metadata": {},
   "source": [
    "<b>loss (regularized) vs mse</b>\n",
    "\n",
    "We can see that while the ```loss``` (regularized) takes about 200 epochs to reach convergence, the ```mse``` already has achieved convergence well before 100 epochs. It will be sufficient to determine convergence based on the ```mse``` plot\n",
    "\n",
    "They are all pretty similar. However, graphs looked a little zoomed out. Let's zoom in"
   ]
  },
  {
   "cell_type": "code",
   "execution_count": 16,
   "metadata": {
    "scrolled": true
   },
   "outputs": [
    {
     "data": {
      "image/png": "[encoded data removed]",
      "text/plain": [
       "<Figure size 432x288 with 1 Axes>"
      ]
     },
     "metadata": {
      "needs_background": "light"
     },
     "output_type": "display_data"
    }
   ],
   "source": [
    "model_name = 'convergence_test_1'\n",
    "plot_history_object(histories, model_name, 'mse', max=60)"
   ]
  },
  {
   "cell_type": "code",
   "execution_count": 17,
   "metadata": {},
   "outputs": [
    {
     "data": {
      "image/png": "[encoded data removed]",
      "text/plain": [
       "<Figure size 432x288 with 1 Axes>"
      ]
     },
     "metadata": {
      "needs_background": "light"
     },
     "output_type": "display_data"
    }
   ],
   "source": [
    "model_name = 'convergence_test_2'\n",
    "plot_history_object(histories, model_name, 'mse', max=60)"
   ]
  },
  {
   "cell_type": "code",
   "execution_count": 18,
   "metadata": {},
   "outputs": [
    {
     "data": {
      "image/png": "[encoded data removed]",
      "text/plain": [
       "<Figure size 432x288 with 1 Axes>"
      ]
     },
     "metadata": {
      "needs_background": "light"
     },
     "output_type": "display_data"
    }
   ],
   "source": [
    "model_name = 'convergence_test_3'\n",
    "plot_history_object(histories, model_name, 'mse', max=60)"
   ]
  },
  {
   "cell_type": "markdown",
   "metadata": {},
   "source": [
    "### Eyeballing Convergence <a name=\"eyeballing_convergence\"></a> \n",
    "[Back to top](#toc)\n",
    "\n",
    "Only the patience was varied for these three models. Just by eyeballing these metrics produced by the three different models, it appears that 40 epochs is sufficient to achieve convergence "
   ]
  },
  {
   "cell_type": "markdown",
   "metadata": {},
   "source": [
    "# Conclusion <a name=\"conclusion\"></a> \n",
    "[Back to top](#toc)\n",
    "\n",
    "> 40 epochs appears to be sufficient to get a reasonable convergence for training"
   ]
  },
  {
   "cell_type": "markdown",
   "metadata": {},
   "source": [
    "### Try Test Set <a name=\"try_test_set\"></a> \n",
    "[Back to top](#toc)\n",
    "\n",
    "We shall use ```epochs=40``` to check the performance of the model on the test set"
   ]
  },
  {
   "cell_type": "code",
   "execution_count": 20,
   "metadata": {},
   "outputs": [
    {
     "name": "stdout",
     "output_type": "stream",
     "text": [
      "Model created\n"
     ]
    },
    {
     "data": {
      "application/vnd.jupyter.widget-view+json": {
       "model_id": "6e05c446150c4b8e80852c619b03f9ff",
       "version_major": 2,
       "version_minor": 0
      },
      "text/plain": [
       "HBox(children=(HTML(value=''), FloatProgress(value=1.0, bar_style='info', layout=Layout(width='20px'), max=1.0…"
      ]
     },
     "metadata": {},
     "output_type": "display_data"
    },
    {
     "data": {
      "application/vnd.jupyter.widget-view+json": {
       "model_id": "",
       "version_major": 2,
       "version_minor": 0
      },
      "text/plain": [
       "HBox(children=(HTML(value=''), FloatProgress(value=1.0, bar_style='info', layout=Layout(width='20px'), max=1.0…"
      ]
     },
     "metadata": {},
     "output_type": "display_data"
    },
    {
     "name": "stdout",
     "output_type": "stream",
     "text": [
      "\n"
     ]
    }
   ],
   "source": [
    "epochs = 40\n",
    "\n",
    "test_histories = {}\n",
    "\n",
    "model = create_model(num_neurons, regularization, optimizer, loss, metrics)\n",
    "\n",
    "callbacks = [TqdmCallback(verbose=1)]\n",
    "model_name = 'test_set'\n",
    "\n",
    "test_histories[model_name] = model.fit(X_train, Y_train,\n",
    "                                        epochs=epochs,\n",
    "                                        verbose = 0,\n",
    "                                        batch_size=batch_size,\n",
    "                                        callbacks=callbacks)"
   ]
  },
  {
   "cell_type": "code",
   "execution_count": 22,
   "metadata": {},
   "outputs": [
    {
     "name": "stdout",
     "output_type": "stream",
     "text": [
      "(120,)\n",
      "(120, 1)\n"
     ]
    }
   ],
   "source": [
    "Y_test_pred = model.predict(X_test)\n",
    "Y_test_pred = Y_test_pred.reshape(1,120)[0]"
   ]
  },
  {
   "cell_type": "code",
   "execution_count": 24,
   "metadata": {},
   "outputs": [],
   "source": [
    "df_Y_test_pred = pd.DataFrame(Y_test_pred, columns =['Y_test_pred']) \n",
    "df_Y_test = pd.DataFrame(Y_test, columns =['Y_test']) \n",
    "df_scatter_y_test_pred = pd.concat([df_Y_test_pred, df_Y_test], axis=1)"
   ]
  },
  {
   "cell_type": "code",
   "execution_count": 25,
   "metadata": {
    "scrolled": false
   },
   "outputs": [
    {
     "name": "stdout",
     "output_type": "stream",
     "text": [
      "Int64Index([ 45,  79,  56,  85,  99,  41,  81, 110,  48,   2,  53,  52,  94,\n",
      "             43,  80,   1,  10,  35,  47,  26,  68,  82,  37,  19,  14,  39,\n",
      "             38,  63, 104, 111,   3,  75,  70, 108,  97, 115, 116,  67,  61,\n",
      "             83,  84,  91,  76,  42,  21,   6,  95, 112, 103,  71],\n",
      "           dtype='int64')\n"
     ]
    },
    {
     "data": {
      "text/html": [
       "<div>\n",
       "<style scoped>\n",
       "    .dataframe tbody tr th:only-of-type {\n",
       "        vertical-align: middle;\n",
       "    }\n",
       "\n",
       "    .dataframe tbody tr th {\n",
       "        vertical-align: top;\n",
       "    }\n",
       "\n",
       "    .dataframe thead th {\n",
       "        text-align: right;\n",
       "    }\n",
       "</style>\n",
       "<table border=\"1\" class=\"dataframe\">\n",
       "  <thead>\n",
       "    <tr style=\"text-align: right;\">\n",
       "      <th></th>\n",
       "      <th>Y_test_pred</th>\n",
       "      <th>Y_test</th>\n",
       "    </tr>\n",
       "  </thead>\n",
       "  <tbody>\n",
       "    <tr>\n",
       "      <th>45</th>\n",
       "      <td>0.791338</td>\n",
       "      <td>0.77</td>\n",
       "    </tr>\n",
       "    <tr>\n",
       "      <th>79</th>\n",
       "      <td>0.389786</td>\n",
       "      <td>0.44</td>\n",
       "    </tr>\n",
       "    <tr>\n",
       "      <th>56</th>\n",
       "      <td>0.801506</td>\n",
       "      <td>0.75</td>\n",
       "    </tr>\n",
       "    <tr>\n",
       "      <th>85</th>\n",
       "      <td>0.705192</td>\n",
       "      <td>0.62</td>\n",
       "    </tr>\n",
       "    <tr>\n",
       "      <th>99</th>\n",
       "      <td>0.597316</td>\n",
       "      <td>0.50</td>\n",
       "    </tr>\n",
       "  </tbody>\n",
       "</table>\n",
       "</div>"
      ],
      "text/plain": [
       "    Y_test_pred  Y_test\n",
       "45     0.791338    0.77\n",
       "79     0.389786    0.44\n",
       "56     0.801506    0.75\n",
       "85     0.705192    0.62\n",
       "99     0.597316    0.50"
      ]
     },
     "execution_count": 25,
     "metadata": {},
     "output_type": "execute_result"
    }
   ],
   "source": [
    "df_scatter_y_test_pred = df_scatter_y_test_pred.sample(n=50, random_state=seed)\n",
    "scatter_index = df_scatter_y_test_pred.index\n",
    "print(scatter_index)\n",
    "df_scatter_y_test_pred.head()"
   ]
  },
  {
   "cell_type": "code",
   "execution_count": 26,
   "metadata": {},
   "outputs": [
    {
     "data": {
      "image/png": "[encoded data removed]",
      "text/plain": [
       "<Figure size 432x288 with 1 Axes>"
      ]
     },
     "metadata": {
      "needs_background": "light"
     },
     "output_type": "display_data"
    }
   ],
   "source": [
    "fig=plt.figure()\n",
    "ax=fig.add_axes([0,0,1,1])\n",
    "ax.scatter(np.arange(50), df_scatter_y_test_pred['Y_test_pred'], color='r', label='pred')\n",
    "ax.scatter(np.arange(50), df_scatter_y_test_pred['Y_test'], color='b', label='ground_truth')\n",
    "\n",
    "ax.set_xlabel('nth test data - not representative of index')\n",
    "ax.set_ylabel('Probability')\n",
    "ax.legend()\n",
    "# ax.set_title('scatter plot')\n",
    "plt.show()"
   ]
  },
  {
   "cell_type": "code",
   "execution_count": 28,
   "metadata": {
    "scrolled": true
   },
   "outputs": [
    {
     "data": {
      "image/png": "[encoded data removed]",
      "text/plain": [
       "<Figure size 432x288 with 1 Axes>"
      ]
     },
     "metadata": {
      "needs_background": "light"
     },
     "output_type": "display_data"
    }
   ],
   "source": [
    "fig=plt.figure()\n",
    "ax=fig.add_axes([0,0,1,1])\n",
    "ax.scatter(df_scatter_y_test_pred['Y_test'], df_scatter_y_test_pred['Y_test_pred'], color='b')\n",
    "ax.plot(np.linspace(np.min(df_scatter_y_test_pred),1,100),np.linspace(np.min(df_scatter_y_test_pred),1,100))\n",
    "ax.set_xlabel('test')\n",
    "ax.set_ylabel('pred')\n",
    "# ax.set_title('scatter plot')\n",
    "plt.show()"
   ]
  }
 ],
 "metadata": {
  "kernelspec": {
   "display_name": "cz4042_env",
   "language": "python",
   "name": "cz4042_env"
  },
  "language_info": {
   "codemirror_mode": {
    "name": "ipython",
    "version": 3
   },
   "file_extension": ".py",
   "mimetype": "text/x-python",
   "name": "python",
   "nbconvert_exporter": "python",
   "pygments_lexer": "ipython3",
   "version": "3.7.9"
  }
 },
 "nbformat": 4,
 "nbformat_minor": 4
}
