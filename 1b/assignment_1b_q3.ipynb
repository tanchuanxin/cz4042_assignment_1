{
 "cells": [
  {
   "cell_type": "markdown",
   "metadata": {},
   "source": [
    "# assignment_1b question 3\n",
    "\n",
    "# Table of Contents <a name=\"toc\"></a>\n",
    "\n",
    "* [Imports](#imports)\n",
    "* [Global](#global)\n",
    "* [Helper Functions](#helper_functions)\n",
    "* [Question 3: N-Layer and Dropout](#n_layer_and_dropout)\n",
    "    * [Model Parameters](#model_parameters)\n",
    "    * [Create the Model](#create_the_model)\n",
    "    * [Try Test Set](#try_test_set) \n",
    "        * [5-Layer](#5_layer)\n",
    "        * [5-Layer Dropout](#5_layer_dropout)    \n",
    "        * [4-Layer](#4_layer)    \n",
    "        * [4-Layer Dropout](#4_layer_dropout)        \n",
    "        * [3-Layer](#3_layer)     \n",
    "        * [Save Data Objects](#save_data_objects)\n",
    "        * [Plot Model Performance](#plot_model_performance)\n",
    "        * [Comparing Models](#comparing_models)\n",
    "        * [Eyeballing Network and Dropout](#eyeballing_rfe_feature_space)\n",
    "* [Conclusion](#conclusion)"
   ]
  },
  {
   "cell_type": "markdown",
   "metadata": {},
   "source": [
    "# Imports <a name=\"imports\"></a> \n",
    "[Back to top](#toc)"
   ]
  },
  {
   "cell_type": "code",
   "execution_count": 1,
   "metadata": {},
   "outputs": [],
   "source": [
    "import tensorflow as tf\n",
    "import numpy as np\n",
    "import matplotlib.pyplot as plt\n",
    "import pandas as pd\n",
    "import seaborn as sns\n",
    "import json\n",
    "import itertools\n",
    "\n",
    "from tensorflow import keras\n",
    "from tqdm.keras import TqdmCallback\n",
    "from sklearn import preprocessing\n",
    "from sklearn.model_selection import train_test_split"
   ]
  },
  {
   "cell_type": "code",
   "execution_count": 2,
   "metadata": {},
   "outputs": [
    {
     "name": "stdout",
     "output_type": "stream",
     "text": [
      "Data loaded\n"
     ]
    }
   ],
   "source": [
    "X_train = np.load('data/X_train.npy')\n",
    "X_test = np.load('data/X_test.npy')\n",
    "Y_train = np.load('data/Y_train.npy')\n",
    "Y_test = np.load('data/Y_test.npy')\n",
    "print(\"Data loaded\")"
   ]
  },
  {
   "cell_type": "markdown",
   "metadata": {},
   "source": [
    "# Global <a name=\"global\"></a> \n",
    "[Back to top](#toc)"
   ]
  },
  {
   "cell_type": "code",
   "execution_count": 3,
   "metadata": {},
   "outputs": [],
   "source": [
    "seed = 10\n",
    "np.random.seed(seed)\n",
    "tf.random.set_seed(seed)\n",
    "\n",
    "# data objects\n",
    "histories = {}"
   ]
  },
  {
   "cell_type": "markdown",
   "metadata": {},
   "source": [
    "# Helper Functions <a name=\"helper_functions\"></a> \n",
    "[Back to top](#toc)"
   ]
  },
  {
   "cell_type": "markdown",
   "metadata": {},
   "source": [
    "### histories_saver()"
   ]
  },
  {
   "cell_type": "code",
   "execution_count": 4,
   "metadata": {},
   "outputs": [],
   "source": [
    "# filename like 'data/q0_histories.json'\n",
    "def histories_saver(histories, filename, already_json=False):\n",
    "    histories_json = {}\n",
    "    \n",
    "    if already_json:\n",
    "        histories_json = histories\n",
    "    else:\n",
    "        for key in histories.keys():\n",
    "            histories_json[key] = histories[key].history\n",
    "\n",
    "    with open(filename, 'w') as file:\n",
    "        json.dump(histories_json, file)\n",
    "\n",
    "    print(\"Histories saved\")"
   ]
  },
  {
   "cell_type": "markdown",
   "metadata": {},
   "source": [
    "### histories_loader()"
   ]
  },
  {
   "cell_type": "code",
   "execution_count": 5,
   "metadata": {},
   "outputs": [],
   "source": [
    "# filename like 'data/q0_histories.json'\n",
    "def histories_loader(filename):\n",
    "    with open(filename) as json_file:\n",
    "        histories = json.load(json_file)\n",
    "    print('Histories loaded')\n",
    "    \n",
    "    return histories "
   ]
  },
  {
   "cell_type": "markdown",
   "metadata": {},
   "source": [
    "### histories_loader()"
   ]
  },
  {
   "cell_type": "code",
   "execution_count": 6,
   "metadata": {},
   "outputs": [],
   "source": [
    "# filename like 'data/q0_histories.json'\n",
    "def histories_loader(filename):\n",
    "    with open(filename) as json_file:\n",
    "        histories = json.load(json_file)\n",
    "    print('Histories loaded')\n",
    "    \n",
    "    return histories "
   ]
  },
  {
   "cell_type": "markdown",
   "metadata": {},
   "source": [
    "### TestCallback()"
   ]
  },
  {
   "cell_type": "code",
   "execution_count": 7,
   "metadata": {},
   "outputs": [],
   "source": [
    "# custom callback to evaluate the test set at each epoch\n",
    "class TestCallback(keras.callbacks.Callback):\n",
    "    def __init__(self, X_test, Y_test):\n",
    "        self.X_test = X_test\n",
    "        self.Y_test = Y_test\n",
    "\n",
    "    def on_epoch_end(self, epoch, logs={}):\n",
    "        loss, mse = self.model.evaluate(self.X_test, self.Y_test, verbose=0)\n",
    "        \n",
    "        histories_test['test_values']['mse'].append(mse)\n",
    "        histories_test['test_values']['loss'].append(loss)"
   ]
  },
  {
   "cell_type": "markdown",
   "metadata": {},
   "source": [
    "# Question 3: N-Layer and Dropout  <a name=\"n_layer_and_dropout\"></a>\n",
    "[Back to top](#toc)\n",
    "\n",
    "<i>Design a four-layer neural network and a five-layer neural network, with the hidden layers having 50 neurons each. Use a learning rate of 10-3 for all layers and optimal feature set selected in part (3). Introduce dropouts (with a keep probability of 0.8) to the layers and report the accuracies. Compare the performances of all the networks (with and without dropouts) with each other and with the 3-layer network.</i>\n",
    "\n",
    "Essentially we have to build five networks on the optimal feature set from assignment_1b_q2\n",
    "* 3-layer network no dropout (from assignment_1b_q2)\n",
    "* 4-layer network no dropout\n",
    "* 4-layer network with dropout\n",
    "* 5-layer network no dropout\n",
    "* 5-layer network with dropout\n",
    "\n",
    "There may be some trouble later when evaluating these five models, since the 3-layer network in assignment_1b_q2 was built with 10 neurons"
   ]
  },
  {
   "cell_type": "markdown",
   "metadata": {},
   "source": [
    "### Model Parameters <a name=\"model_parameters\"></a> \n",
    "[Back to top](#toc)"
   ]
  },
  {
   "cell_type": "code",
   "execution_count": 8,
   "metadata": {},
   "outputs": [
    {
     "data": {
      "application/vnd.jupyter.widget-view+json": {
       "model_id": "7201a99e72484f7fa07092d999b8bb6c",
       "version_major": 2,
       "version_minor": 0
      },
      "text/plain": [
       "HBox(children=(HTML(value=''), FloatProgress(value=1.0, bar_style='info', layout=Layout(width='20px'), max=1.0…"
      ]
     },
     "metadata": {},
     "output_type": "display_data"
    },
    {
     "data": {
      "application/vnd.jupyter.widget-view+json": {
       "model_id": "",
       "version_major": 2,
       "version_minor": 0
      },
      "text/plain": [
       "HBox(children=(HTML(value=''), FloatProgress(value=1.0, bar_style='info', layout=Layout(width='20px'), max=1.0…"
      ]
     },
     "metadata": {},
     "output_type": "display_data"
    },
    {
     "name": "stdout",
     "output_type": "stream",
     "text": [
      "Model Parameters set\n"
     ]
    }
   ],
   "source": [
    "num_neurons = 50\n",
    "\n",
    "weight_decay_parameter = 10e-3\n",
    "regularization = keras.regularizers.l2(weight_decay_parameter)\n",
    "dropout_rate = 0.2\n",
    "\n",
    "learning_rate= 10e-3\n",
    "optimizer = keras.optimizers.SGD(learning_rate=learning_rate)\n",
    "\n",
    "loss = keras.losses.MeanSquaredError()\n",
    "metrics = ['mse']\n",
    "\n",
    "validation_split = 0.3\n",
    "epochs = 400 # from assignment_1b_q1\n",
    "batch_size = 8\n",
    "\n",
    "callbacks = [TqdmCallback(verbose=1)]\n",
    "\n",
    "print(\"Model Parameters set\")"
   ]
  },
  {
   "cell_type": "markdown",
   "metadata": {},
   "source": [
    "The optimal feature set from assignment_1b q2 is a 6 input feature set, which dropped ```SOP```, the 4th column. We shall truncate the data as such "
   ]
  },
  {
   "cell_type": "code",
   "execution_count": 9,
   "metadata": {},
   "outputs": [
    {
     "name": "stdout",
     "output_type": "stream",
     "text": [
      "X_train_truncated, X_test_truncated generated\n"
     ]
    }
   ],
   "source": [
    "X_train_truncated = np.delete(X_train, 3, 1)\n",
    "X_test_truncated = np.delete(X_test, 3, 1)\n",
    "print(\"X_train_truncated, X_test_truncated generated\")"
   ]
  },
  {
   "cell_type": "markdown",
   "metadata": {},
   "source": [
    "### Create the model <a name=\"create_the_model\"></a> \n",
    "[Back to top](#toc)"
   ]
  },
  {
   "cell_type": "code",
   "execution_count": 10,
   "metadata": {},
   "outputs": [],
   "source": [
    "def create_model_3(num_neurons, regularization, optimizer, loss, metrics):\n",
    "    model = keras.Sequential([\n",
    "        keras.layers.Dense(num_neurons, activation='relu', kernel_regularizer=regularization),\n",
    "        keras.layers.Dense(1, activation='linear')\n",
    "    ])\n",
    "    \n",
    "    model.compile(optimizer=optimizer,\n",
    "              loss=loss,\n",
    "              metrics=metrics)\n",
    "    \n",
    "    print(\"Model created\")\n",
    "    return model\n",
    "\n",
    "def create_model_4(num_neurons, regularization, optimizer, loss, metrics):\n",
    "    model = keras.Sequential([\n",
    "        keras.layers.Dense(num_neurons, activation='relu', kernel_regularizer=regularization),\n",
    "        keras.layers.Dense(num_neurons, activation='relu', kernel_regularizer=regularization),\n",
    "        keras.layers.Dense(1, activation='linear')\n",
    "    ])\n",
    "    \n",
    "    model.compile(optimizer=optimizer,\n",
    "              loss=loss,\n",
    "              metrics=metrics)\n",
    "    \n",
    "    print(\"Model created\")\n",
    "    return model\n",
    "\n",
    "def create_model_4_dropout(num_neurons, regularization, optimizer, loss, metrics, dropout_rate, seed):\n",
    "    model = keras.Sequential([\n",
    "        keras.layers.Dense(num_neurons, activation='relu', kernel_regularizer=regularization),\n",
    "        keras.layers.Dropout(rate=dropout_rate, seed=seed),\n",
    "        keras.layers.Dense(num_neurons, activation='relu', kernel_regularizer=regularization),\n",
    "        keras.layers.Dropout(rate=dropout_rate, seed=seed),\n",
    "        keras.layers.Dense(1, activation='linear')\n",
    "    ])\n",
    "    \n",
    "    model.compile(optimizer=optimizer,\n",
    "              loss=loss,\n",
    "              metrics=metrics)\n",
    "    \n",
    "    print(\"Model created\")\n",
    "    return model\n",
    "\n",
    "def create_model_5(num_neurons, regularization, optimizer, loss, metrics):\n",
    "    model = keras.Sequential([\n",
    "        keras.layers.Dense(num_neurons, activation='relu', kernel_regularizer=regularization),\n",
    "        keras.layers.Dense(num_neurons, activation='relu', kernel_regularizer=regularization),\n",
    "        keras.layers.Dense(num_neurons, activation='relu', kernel_regularizer=regularization),\n",
    "        keras.layers.Dense(1, activation='linear')\n",
    "    ])\n",
    "    \n",
    "    model.compile(optimizer=optimizer,\n",
    "              loss=loss,\n",
    "              metrics=metrics)\n",
    "    \n",
    "    print(\"Model created\")\n",
    "    return model\n",
    "\n",
    "def create_model_5_dropout(num_neurons, regularization, optimizer, loss, metrics, dropout_rate, seed):\n",
    "    model = keras.Sequential([\n",
    "        keras.layers.Dense(num_neurons, activation='relu', kernel_regularizer=regularization),\n",
    "        keras.layers.Dropout(rate=dropout_rate, seed=seed),\n",
    "        keras.layers.Dense(num_neurons, activation='relu', kernel_regularizer=regularization),\n",
    "        keras.layers.Dropout(rate=dropout_rate, seed=seed),\n",
    "        keras.layers.Dense(num_neurons, activation='relu', kernel_regularizer=regularization),\n",
    "        keras.layers.Dropout(rate=dropout_rate, seed=seed),\n",
    "        keras.layers.Dense(1, activation='linear')\n",
    "    ])\n",
    "    \n",
    "    model.compile(optimizer=optimizer,\n",
    "              loss=loss,\n",
    "              metrics=metrics)\n",
    "    \n",
    "    print(\"Model created\")\n",
    "    return model"
   ]
  },
  {
   "cell_type": "code",
   "execution_count": 11,
   "metadata": {},
   "outputs": [],
   "source": [
    "def fit_model(X_train, Y_train, model_name, model, validation_split, epochs, batch_size, callbacks):\n",
    "    print(\"Training \", model_name)\n",
    "    \n",
    "    history = model.fit(X_train, Y_train,\n",
    "                            validation_split=validation_split,\n",
    "                            epochs=epochs,\n",
    "                            batch_size=batch_size,  \n",
    "                            callbacks=callbacks,\n",
    "                            verbose = 0)    \n",
    "                            \n",
    "    return model, history"
   ]
  },
  {
   "cell_type": "markdown",
   "metadata": {},
   "source": [
    "### 4-Layer <a name=\"4_layer\"></a> \n",
    "[Back to top](#toc)"
   ]
  },
  {
   "cell_type": "markdown",
   "metadata": {},
   "source": [
    "### 4-Layer <a name=\"4_layer\"></a> \n",
    "[Back to top](#toc)"
   ]
  },
  {
   "cell_type": "markdown",
   "metadata": {},
   "source": [
    "### 4-Layer <a name=\"4_layer\"></a> \n",
    "[Back to top](#toc)"
   ]
  },
  {
   "cell_type": "markdown",
   "metadata": {},
   "source": [
    "# Try Test Set <a name=\"try_test_set\"></a> \n",
    "[Back to top](#toc)\n",
    "\n",
    "We shall use a truncated ```X_test``` to check the performance of the model on the test set, by only using the ```CGPA``` column"
   ]
  },
  {
   "cell_type": "markdown",
   "metadata": {},
   "source": [
    "### 5-Layer <a name=\"5_layer\"></a> \n",
    "[Back to top](#toc)"
   ]
  },
  {
   "cell_type": "code",
   "execution_count": 12,
   "metadata": {},
   "outputs": [
    {
     "data": {
      "application/vnd.jupyter.widget-view+json": {
       "model_id": "",
       "version_major": 2,
       "version_minor": 0
      },
      "text/plain": [
       "HBox(children=(HTML(value=''), FloatProgress(value=1.0, bar_style='info', layout=Layout(width='20px'), max=1.0…"
      ]
     },
     "metadata": {},
     "output_type": "display_data"
    },
    {
     "data": {
      "application/vnd.jupyter.widget-view+json": {
       "model_id": "",
       "version_major": 2,
       "version_minor": 0
      },
      "text/plain": [
       "HBox(children=(HTML(value=''), FloatProgress(value=1.0, bar_style='info', layout=Layout(width='20px'), max=1.0…"
      ]
     },
     "metadata": {},
     "output_type": "display_data"
    }
   ],
   "source": [
    "# the optimized parameter and custom callback\n",
    "callbacks = [TqdmCallback(verbose=1), TestCallback(X_test_truncated, Y_test)] \n",
    "\n",
    "# the history object to keep performance of X_test Y_test from hinal model\n",
    "histories_test = {\n",
    "    'test_values': {\n",
    "        'loss': [],\n",
    "        'mse': []\n",
    "    }\n",
    "}\n",
    "\n",
    "# the history object to keep performance of X_train Y_train from final model\n",
    "histories_final_5 = {}"
   ]
  },
  {
   "cell_type": "code",
   "execution_count": 13,
   "metadata": {},
   "outputs": [
    {
     "name": "stdout",
     "output_type": "stream",
     "text": [
      "\n",
      "Model created\n",
      "Training  train_values\n",
      "\n",
      "Histories saved\n",
      "Histories loaded\n",
      "Histories saved\n",
      "Histories loaded\n"
     ]
    }
   ],
   "source": [
    "model = create_model_5(num_neurons, regularization, optimizer, loss, metrics)\n",
    "model_name = 'train_values'\n",
    "model_5, histories_final_5[model_name] = fit_model(X_train_truncated, Y_train, model_name, model, validation_split, epochs, batch_size, callbacks)\n",
    "\n",
    "# the history\n",
    "histories_saver(histories_final_5, \"data/q3_histories_final_5.json\")\n",
    "histories_final_5 = histories_loader(\"data/q3_histories_final_5.json\")\n",
    "\n",
    "histories_final_5['test_values'] = histories_test['test_values']\n",
    "\n",
    "histories_saver(histories_final_5, \"data/q3_histories_final_5.json\", already_json=True)\n",
    "histories_final_5 = histories_loader(\"data/q3_histories_final_5.json\")"
   ]
  },
  {
   "cell_type": "markdown",
   "metadata": {},
   "source": [
    "### 5-Layer Dropout <a name=\"5_layer_dropout\"></a> \n",
    "[Back to top](#toc)"
   ]
  },
  {
   "cell_type": "code",
   "execution_count": 14,
   "metadata": {},
   "outputs": [
    {
     "data": {
      "application/vnd.jupyter.widget-view+json": {
       "model_id": "45580f48d155456b914ae0990f34e8f8",
       "version_major": 2,
       "version_minor": 0
      },
      "text/plain": [
       "HBox(children=(HTML(value=''), FloatProgress(value=1.0, bar_style='info', layout=Layout(width='20px'), max=1.0…"
      ]
     },
     "metadata": {},
     "output_type": "display_data"
    },
    {
     "data": {
      "application/vnd.jupyter.widget-view+json": {
       "model_id": "",
       "version_major": 2,
       "version_minor": 0
      },
      "text/plain": [
       "HBox(children=(HTML(value=''), FloatProgress(value=1.0, bar_style='info', layout=Layout(width='20px'), max=1.0…"
      ]
     },
     "metadata": {},
     "output_type": "display_data"
    }
   ],
   "source": [
    "# the optimized parameter and custom callback\n",
    "callbacks = [TqdmCallback(verbose=1), TestCallback(X_test_truncated, Y_test)] \n",
    "\n",
    "# the history object to keep performance of X_test Y_test from hinal model\n",
    "histories_test = {\n",
    "    'test_values': {\n",
    "        'loss': [],\n",
    "        'mse': []\n",
    "    }\n",
    "}\n",
    "\n",
    "# the history object to keep performance of X_train Y_train from final model\n",
    "histories_final_5_dropout = {}"
   ]
  },
  {
   "cell_type": "code",
   "execution_count": 16,
   "metadata": {},
   "outputs": [
    {
     "name": "stdout",
     "output_type": "stream",
     "text": [
      "Model created\n",
      "Training  train_values\n",
      "\n",
      "Histories saved\n",
      "Histories loaded\n",
      "Histories saved\n",
      "Histories loaded\n"
     ]
    }
   ],
   "source": [
    "model = create_model_5_dropout(num_neurons, regularization, optimizer, loss, metrics, dropout_rate, seed)\n",
    "model_name = 'train_values'\n",
    "model_5_dropout, histories_final_5_dropout[model_name] = fit_model(X_train_truncated, Y_train, model_name, model, validation_split, epochs, batch_size, callbacks)\n",
    "\n",
    "# the history\n",
    "histories_saver(histories_final_5_dropout, \"data/q3_histories_final_5_dropout.json\")\n",
    "histories_final_5_dropout = histories_loader(\"data/q3_histories_final_5_dropout.json\")\n",
    "\n",
    "histories_final_5_dropout['test_values'] = histories_test['test_values']\n",
    "\n",
    "histories_saver(histories_final_5_dropout, \"data/q3_histories_final_5_dropout.json\", already_json=True)\n",
    "histories_final_5_dropout = histories_loader(\"data/q3_histories_final_5_dropout.json\")"
   ]
  },
  {
   "cell_type": "markdown",
   "metadata": {},
   "source": [
    "### 4-Layer <a name=\"4_layer\"></a> \n",
    "[Back to top](#toc)"
   ]
  },
  {
   "cell_type": "code",
   "execution_count": 17,
   "metadata": {},
   "outputs": [
    {
     "data": {
      "application/vnd.jupyter.widget-view+json": {
       "model_id": "3b530405802f4eb3b6f54e929949c576",
       "version_major": 2,
       "version_minor": 0
      },
      "text/plain": [
       "HBox(children=(HTML(value=''), FloatProgress(value=1.0, bar_style='info', layout=Layout(width='20px'), max=1.0…"
      ]
     },
     "metadata": {},
     "output_type": "display_data"
    },
    {
     "data": {
      "application/vnd.jupyter.widget-view+json": {
       "model_id": "",
       "version_major": 2,
       "version_minor": 0
      },
      "text/plain": [
       "HBox(children=(HTML(value=''), FloatProgress(value=1.0, bar_style='info', layout=Layout(width='20px'), max=1.0…"
      ]
     },
     "metadata": {},
     "output_type": "display_data"
    }
   ],
   "source": [
    "# the optimized parameter and custom callback\n",
    "callbacks = [TqdmCallback(verbose=1), TestCallback(X_test_truncated, Y_test)] \n",
    "\n",
    "# the history object to keep performance of X_test Y_test from hinal model\n",
    "histories_test = {\n",
    "    'test_values': {\n",
    "        'loss': [],\n",
    "        'mse': []\n",
    "    }\n",
    "}\n",
    "\n",
    "# the history object to keep performance of X_train Y_train from final model\n",
    "histories_final_4 = {}"
   ]
  },
  {
   "cell_type": "code",
   "execution_count": 18,
   "metadata": {},
   "outputs": [
    {
     "name": "stdout",
     "output_type": "stream",
     "text": [
      "Model created\n",
      "Training  train_values\n",
      "\n",
      "Histories saved\n",
      "Histories loaded\n",
      "Histories saved\n",
      "Histories loaded\n"
     ]
    }
   ],
   "source": [
    "model = create_model_4(num_neurons, regularization, optimizer, loss, metrics)\n",
    "model_name = 'train_values'\n",
    "model_4, histories_final_4[model_name] = fit_model(X_train_truncated, Y_train, model_name, model, validation_split, epochs, batch_size, callbacks)\n",
    "\n",
    "# the history\n",
    "histories_saver(histories_final_4, \"data/q3_histories_final_4.json\")\n",
    "histories_final_4 = histories_loader(\"data/q3_histories_final_4.json\")\n",
    "\n",
    "histories_final_4['test_values'] = histories_test['test_values']\n",
    "\n",
    "histories_saver(histories_final_4, \"data/q3_histories_final_4.json\", already_json=True)\n",
    "histories_final_4 = histories_loader(\"data/q3_histories_final_4.json\")"
   ]
  },
  {
   "cell_type": "markdown",
   "metadata": {},
   "source": [
    "### 4-Layer Dropout <a name=\"4_layer_dropout\"></a> \n",
    "[Back to top](#toc)"
   ]
  },
  {
   "cell_type": "code",
   "execution_count": 19,
   "metadata": {},
   "outputs": [
    {
     "data": {
      "application/vnd.jupyter.widget-view+json": {
       "model_id": "92da3a76b0684906810fde9b59f1790e",
       "version_major": 2,
       "version_minor": 0
      },
      "text/plain": [
       "HBox(children=(HTML(value=''), FloatProgress(value=1.0, bar_style='info', layout=Layout(width='20px'), max=1.0…"
      ]
     },
     "metadata": {},
     "output_type": "display_data"
    },
    {
     "data": {
      "application/vnd.jupyter.widget-view+json": {
       "model_id": "",
       "version_major": 2,
       "version_minor": 0
      },
      "text/plain": [
       "HBox(children=(HTML(value=''), FloatProgress(value=1.0, bar_style='info', layout=Layout(width='20px'), max=1.0…"
      ]
     },
     "metadata": {},
     "output_type": "display_data"
    }
   ],
   "source": [
    "# the optimized parameter and custom callback\n",
    "callbacks = [TqdmCallback(verbose=1), TestCallback(X_test_truncated, Y_test)] \n",
    "\n",
    "# the history object to keep performance of X_test Y_test from hinal model\n",
    "histories_test = {\n",
    "    'test_values': {\n",
    "        'loss': [],\n",
    "        'mse': []\n",
    "    }\n",
    "}\n",
    "\n",
    "# the history object to keep performance of X_train Y_train from final model\n",
    "histories_final_4_dropout = {}"
   ]
  },
  {
   "cell_type": "code",
   "execution_count": 20,
   "metadata": {},
   "outputs": [
    {
     "name": "stdout",
     "output_type": "stream",
     "text": [
      "Model created\n",
      "Training  train_values\n",
      "\n",
      "Histories saved\n",
      "Histories loaded\n",
      "Histories saved\n",
      "Histories loaded\n"
     ]
    }
   ],
   "source": [
    "model = create_model_4_dropout(num_neurons, regularization, optimizer, loss, metrics, dropout_rate, seed)\n",
    "model_name = 'train_values'\n",
    "model_4_dropout, histories_final_4_dropout[model_name] = fit_model(X_train_truncated, Y_train, model_name, model, validation_split, epochs, batch_size, callbacks)\n",
    "\n",
    "# the history\n",
    "histories_saver(histories_final_4_dropout, \"data/q3_histories_final_4_dropout.json\")\n",
    "histories_final_4_dropout = histories_loader(\"data/q3_histories_final_4_dropout.json\")\n",
    "\n",
    "histories_final_4_dropout['test_values'] = histories_test['test_values']\n",
    "\n",
    "histories_saver(histories_final_4_dropout, \"data/q3_histories_final_4_dropout.json\", already_json=True)\n",
    "histories_final_4_dropout = histories_loader(\"data/q3_histories_final_4_dropout.json\")"
   ]
  },
  {
   "cell_type": "markdown",
   "metadata": {},
   "source": [
    "### 3-Layer <a name=\"3_layer\"></a> \n",
    "[Back to top](#toc)\n",
    "\n",
    "The 3-layer network only differs in ```num_neurons=10``` and having no dropout"
   ]
  },
  {
   "cell_type": "code",
   "execution_count": 24,
   "metadata": {},
   "outputs": [
    {
     "data": {
      "application/vnd.jupyter.widget-view+json": {
       "model_id": "aa5e2b5d1deb4a73b0529e361f19ec64",
       "version_major": 2,
       "version_minor": 0
      },
      "text/plain": [
       "HBox(children=(HTML(value=''), FloatProgress(value=1.0, bar_style='info', layout=Layout(width='20px'), max=1.0…"
      ]
     },
     "metadata": {},
     "output_type": "display_data"
    },
    {
     "data": {
      "application/vnd.jupyter.widget-view+json": {
       "model_id": "",
       "version_major": 2,
       "version_minor": 0
      },
      "text/plain": [
       "HBox(children=(HTML(value=''), FloatProgress(value=1.0, bar_style='info', layout=Layout(width='20px'), max=1.0…"
      ]
     },
     "metadata": {},
     "output_type": "display_data"
    }
   ],
   "source": [
    "# the optimized parameter and custom callback\n",
    "num_neurons = 10\n",
    "callbacks = [TqdmCallback(verbose=1), TestCallback(X_test_truncated, Y_test)] \n",
    "\n",
    "# the history object to keep performance of X_test Y_test from hinal model\n",
    "histories_test = {\n",
    "    'test_values': {\n",
    "        'loss': [],\n",
    "        'mse': []\n",
    "    }\n",
    "}\n",
    "\n",
    "# the history object to keep performance of X_train Y_train from final model\n",
    "histories_final_3 = {}"
   ]
  },
  {
   "cell_type": "code",
   "execution_count": 25,
   "metadata": {},
   "outputs": [
    {
     "name": "stdout",
     "output_type": "stream",
     "text": [
      "Model created\n",
      "Training  train_values\n",
      "\n",
      "Histories saved\n",
      "Histories loaded\n",
      "Histories saved\n",
      "Histories loaded\n"
     ]
    }
   ],
   "source": [
    "model = create_model_3(num_neurons, regularization, optimizer, loss, metrics)\n",
    "model_name = 'train_values'\n",
    "model_3, histories_final_3[model_name] = fit_model(X_train_truncated, Y_train, model_name, model, validation_split, epochs, batch_size, callbacks)\n",
    "\n",
    "# the history\n",
    "histories_saver(histories_final_3, \"data/q3_histories_final_3.json\")\n",
    "histories_final_3 = histories_loader(\"data/q3_histories_final_3.json\")\n",
    "\n",
    "histories_final_3['test_values'] = histories_test['test_values']\n",
    "\n",
    "histories_saver(histories_final_3, \"data/q3_histories_final_3.json\", already_json=True)\n",
    "histories_final_3 = histories_loader(\"data/q3_histories_final_3.json\")"
   ]
  },
  {
   "cell_type": "markdown",
   "metadata": {},
   "source": [
    "##### Plotting Test Set"
   ]
  },
  {
   "cell_type": "code",
   "execution_count": 27,
   "metadata": {},
   "outputs": [
    {
     "name": "stdout",
     "output_type": "stream",
     "text": [
      "Histories saved\n",
      "Histories loaded\n"
     ]
    }
   ],
   "source": [
    "histories_final = {'3_layer': histories_final_3,\n",
    "                    '4_layer': histories_final_4,\n",
    "                    '4_layer_dropout': histories_final_4_dropout,\n",
    "                    '5_layer': histories_final_5,\n",
    "                    '5_layer_dropout': histories_final_5_dropout}\n",
    "\n",
    "histories_saver(histories_final, \"data/q3_histories_final.json\", already_json=True)\n",
    "histories_final = histories_loader(\"data/q3_histories_final.json\")"
   ]
  },
  {
   "cell_type": "code",
   "execution_count": 28,
   "metadata": {},
   "outputs": [
    {
     "data": {
      "image/png": "[encoded data removed]",
      "text/plain": [
       "<Figure size 432x288 with 1 Axes>"
      ]
     },
     "metadata": {
      "needs_background": "light"
     },
     "output_type": "display_data"
    },
    {
     "data": {
      "image/png": "[encoded data removed]",
      "text/plain": [
       "<Figure size 432x288 with 1 Axes>"
      ]
     },
     "metadata": {
      "needs_background": "light"
     },
     "output_type": "display_data"
    }
   ],
   "source": [
    "for history_object in ['loss', 'mse']:\n",
    "    for model_name in histories_final.keys():\n",
    "        for value_type in histories_final[model_name].keys():\n",
    "            plt.plot(histories_final[model_name][value_type][history_object], label=model_name + ' ' + value_type)\n",
    "\n",
    "    plt.title(history_object + ' against epochs')\n",
    "    plt.ylabel(history_object)\n",
    "    plt.xlabel('epochs')\n",
    "    plt.legend(loc=\"center right\")\n",
    "    plt.show()"
   ]
  },
  {
   "cell_type": "markdown",
   "metadata": {},
   "source": [
    "Zooming in on the tail and just focusing on the test_values"
   ]
  },
  {
   "cell_type": "code",
   "execution_count": 30,
   "metadata": {},
   "outputs": [
    {
     "data": {
      "image/png": "[encoded data removed]",
      "text/plain": [
       "<Figure size 432x288 with 1 Axes>"
      ]
     },
     "metadata": {
      "needs_background": "light"
     },
     "output_type": "display_data"
    },
    {
     "data": {
      "image/png": "[encoded data removed]",
      "text/plain": [
       "<Figure size 432x288 with 1 Axes>"
      ]
     },
     "metadata": {
      "needs_background": "light"
     },
     "output_type": "display_data"
    }
   ],
   "source": [
    "for history_object in ['loss', 'mse']:\n",
    "    for model_name in histories_final.keys():\n",
    "        plt.plot(histories_final[model_name]['test_values'][history_object][-15:], label=model_name + ' ' + value_type)\n",
    "#         for value_type in histories_final[model_name].keys():\n",
    "#             plt.plot(histories_final[model_name][value_type][history_object][-15:], label=model_name + ' ' + value_type)\n",
    "\n",
    "    plt.title(history_object + ' against last 15 epochs')\n",
    "    plt.ylabel(history_object)\n",
    "    plt.xlabel('epochs')\n",
    "    plt.legend(loc=\"upper left\")\n",
    "    plt.show()"
   ]
  },
  {
   "cell_type": "markdown",
   "metadata": {},
   "source": [
    "> ### 4_layer, no dropout has the best model that generalizes to the test set\n",
    "\n",
    "The smallest ```test mse``` belong to the the 4 layer, no dropout, which is closely followed by 3 layer, no dropout "
   ]
  },
  {
   "cell_type": "markdown",
   "metadata": {},
   "source": [
    "##### Visualize Test Predictions <a name=\"visualize_test_predictions\"></a> \n",
    "[Back to top](#toc)"
   ]
  },
  {
   "cell_type": "code",
   "execution_count": 31,
   "metadata": {},
   "outputs": [],
   "source": [
    "Y_test_pred_5 = model_5.predict(X_test_truncated)\n",
    "Y_test_pred_5 = Y_test_pred_5.reshape(1,120)[0]\n",
    "\n",
    "Y_test_pred_5_dropout = model_5_dropout.predict(X_test_truncated)\n",
    "Y_test_pred_5_dropout = Y_test_pred_5_dropout.reshape(1,120)[0]\n",
    "\n",
    "Y_test_pred_4 = model_4.predict(X_test_truncated)\n",
    "Y_test_pred_4 = Y_test_pred_4.reshape(1,120)[0]\n",
    "\n",
    "Y_test_pred_4_dropout = model_4_dropout.predict(X_test_truncated)\n",
    "Y_test_pred_4_dropout = Y_test_pred_4_dropout.reshape(1,120)[0]\n",
    "\n",
    "Y_test_pred_3 = model_3.predict(X_test_truncated)\n",
    "Y_test_pred_3 = Y_test_pred_3.reshape(1,120)[0]"
   ]
  },
  {
   "cell_type": "code",
   "execution_count": 32,
   "metadata": {},
   "outputs": [],
   "source": [
    "df_Y_test_pred_5 = pd.DataFrame(Y_test_pred_5, columns =['Y_test_pred_5']) \n",
    "df_Y_test_pred_5_dropout = pd.DataFrame(Y_test_pred_5_dropout, columns =['Y_test_pred_5_dropout']) \n",
    "df_Y_test_pred_4 = pd.DataFrame(Y_test_pred_4, columns =['Y_test_pred_4']) \n",
    "df_Y_test_pred_4_dropout = pd.DataFrame(Y_test_pred_4_dropout, columns =['Y_test_pred_4_dropout']) \n",
    "df_Y_test_pred_3 = pd.DataFrame(Y_test_pred_3, columns =['Y_test_pred_3']) \n",
    "df_Y_test = pd.DataFrame(Y_test, columns =['Y_test']) \n",
    "df_scatter_y_test_pred = pd.concat([df_Y_test_pred_5, df_Y_test_pred_5_dropout, df_Y_test_pred_4, df_Y_test_pred_4_dropout, df_Y_test_pred_3, df_Y_test], axis=1)"
   ]
  },
  {
   "cell_type": "code",
   "execution_count": 33,
   "metadata": {},
   "outputs": [
    {
     "name": "stdout",
     "output_type": "stream",
     "text": [
      "Int64Index([ 45,  79,  56,  85,  99,  41,  81, 110,  48,   2,  53,  52,  94,\n",
      "             43,  80,   1,  10,  35,  47,  26,  68,  82,  37,  19,  14,  39,\n",
      "             38,  63, 104, 111,   3,  75,  70, 108,  97, 115, 116,  67,  61,\n",
      "             83,  84,  91,  76,  42,  21,   6,  95, 112, 103,  71],\n",
      "           dtype='int64')\n"
     ]
    },
    {
     "data": {
      "text/html": [
       "<div>\n",
       "<style scoped>\n",
       "    .dataframe tbody tr th:only-of-type {\n",
       "        vertical-align: middle;\n",
       "    }\n",
       "\n",
       "    .dataframe tbody tr th {\n",
       "        vertical-align: top;\n",
       "    }\n",
       "\n",
       "    .dataframe thead th {\n",
       "        text-align: right;\n",
       "    }\n",
       "</style>\n",
       "<table border=\"1\" class=\"dataframe\">\n",
       "  <thead>\n",
       "    <tr style=\"text-align: right;\">\n",
       "      <th></th>\n",
       "      <th>Y_test_pred_5</th>\n",
       "      <th>Y_test_pred_5_dropout</th>\n",
       "      <th>Y_test_pred_4</th>\n",
       "      <th>Y_test_pred_4_dropout</th>\n",
       "      <th>Y_test_pred_3</th>\n",
       "      <th>Y_test</th>\n",
       "    </tr>\n",
       "  </thead>\n",
       "  <tbody>\n",
       "    <tr>\n",
       "      <th>45</th>\n",
       "      <td>0.743482</td>\n",
       "      <td>0.740773</td>\n",
       "      <td>0.739177</td>\n",
       "      <td>0.737555</td>\n",
       "      <td>0.749692</td>\n",
       "      <td>0.77</td>\n",
       "    </tr>\n",
       "    <tr>\n",
       "      <th>79</th>\n",
       "      <td>0.567236</td>\n",
       "      <td>0.574625</td>\n",
       "      <td>0.532021</td>\n",
       "      <td>0.548207</td>\n",
       "      <td>0.550614</td>\n",
       "      <td>0.44</td>\n",
       "    </tr>\n",
       "    <tr>\n",
       "      <th>56</th>\n",
       "      <td>0.735969</td>\n",
       "      <td>0.731984</td>\n",
       "      <td>0.733694</td>\n",
       "      <td>0.730316</td>\n",
       "      <td>0.707070</td>\n",
       "      <td>0.75</td>\n",
       "    </tr>\n",
       "    <tr>\n",
       "      <th>85</th>\n",
       "      <td>0.662250</td>\n",
       "      <td>0.672826</td>\n",
       "      <td>0.666535</td>\n",
       "      <td>0.671848</td>\n",
       "      <td>0.657904</td>\n",
       "      <td>0.62</td>\n",
       "    </tr>\n",
       "    <tr>\n",
       "      <th>99</th>\n",
       "      <td>0.661830</td>\n",
       "      <td>0.672917</td>\n",
       "      <td>0.650906</td>\n",
       "      <td>0.656452</td>\n",
       "      <td>0.652754</td>\n",
       "      <td>0.50</td>\n",
       "    </tr>\n",
       "  </tbody>\n",
       "</table>\n",
       "</div>"
      ],
      "text/plain": [
       "    Y_test_pred_5  Y_test_pred_5_dropout  Y_test_pred_4  \\\n",
       "45       0.743482               0.740773       0.739177   \n",
       "79       0.567236               0.574625       0.532021   \n",
       "56       0.735969               0.731984       0.733694   \n",
       "85       0.662250               0.672826       0.666535   \n",
       "99       0.661830               0.672917       0.650906   \n",
       "\n",
       "    Y_test_pred_4_dropout  Y_test_pred_3  Y_test  \n",
       "45               0.737555       0.749692    0.77  \n",
       "79               0.548207       0.550614    0.44  \n",
       "56               0.730316       0.707070    0.75  \n",
       "85               0.671848       0.657904    0.62  \n",
       "99               0.656452       0.652754    0.50  "
      ]
     },
     "execution_count": 33,
     "metadata": {},
     "output_type": "execute_result"
    }
   ],
   "source": [
    "df_scatter_y_test_pred = df_scatter_y_test_pred.sample(n=50, random_state=seed)\n",
    "scatter_index = df_scatter_y_test_pred.index\n",
    "print(scatter_index)\n",
    "df_scatter_y_test_pred.head()"
   ]
  },
  {
   "cell_type": "markdown",
   "metadata": {},
   "source": [
    "##### First view: plotting pred+ground_truth pairs"
   ]
  },
  {
   "cell_type": "code",
   "execution_count": 41,
   "metadata": {
    "scrolled": true
   },
   "outputs": [
    {
     "data": {
      "image/png": "[encoded data removed]",
      "text/plain": [
       "<Figure size 432x288 with 1 Axes>"
      ]
     },
     "metadata": {
      "needs_background": "light"
     },
     "output_type": "display_data"
    }
   ],
   "source": [
    "fig=plt.figure()\n",
    "ax=fig.add_axes([0,0,1,1])\n",
    "ax.scatter(np.arange(50), df_scatter_y_test_pred['Y_test_pred_5'], color='r', label='Y_test_pred_5')\n",
    "ax.scatter(np.arange(50), df_scatter_y_test_pred['Y_test_pred_5_dropout'], color='b', label='Y_test_pred_5_dropout')\n",
    "ax.scatter(np.arange(50), df_scatter_y_test_pred['Y_test_pred_4'], color='g', label='Y_test_pred_4')\n",
    "ax.scatter(np.arange(50), df_scatter_y_test_pred['Y_test_pred_4_dropout'], color='y', label='Y_test_pred_4_dropout')\n",
    "ax.scatter(np.arange(50), df_scatter_y_test_pred['Y_test_pred_3'], color='m', label='Y_test_pred_3')\n",
    "ax.scatter(np.arange(50), df_scatter_y_test_pred['Y_test'], color='c', label='ground_truth')\n",
    "\n",
    "ax.set_title('pred/ground truth as pairs')\n",
    "ax.set_xlabel('nth test data - not representative of index')\n",
    "ax.set_ylabel('Probability')\n",
    "ax.legend()\n",
    "plt.show()"
   ]
  },
  {
   "cell_type": "markdown",
   "metadata": {},
   "source": [
    "##### Second view: predicted value against ground truth\n",
    "\n",
    "If a datapoint lies on the y=x line, it represents a perfect prediction"
   ]
  },
  {
   "cell_type": "code",
   "execution_count": 42,
   "metadata": {},
   "outputs": [
    {
     "data": {
      "image/png": "[encoded data removed]",
      "text/plain": [
       "<Figure size 432x288 with 1 Axes>"
      ]
     },
     "metadata": {
      "needs_background": "light"
     },
     "output_type": "display_data"
    }
   ],
   "source": [
    "fig=plt.figure()\n",
    "ax=fig.add_axes([0,0,1,1])\n",
    "ax.scatter(df_scatter_y_test_pred['Y_test'], df_scatter_y_test_pred['Y_test_pred_5'], color='r')\n",
    "ax.scatter(df_scatter_y_test_pred['Y_test'], df_scatter_y_test_pred['Y_test_pred_5_dropout'], color='b')\n",
    "ax.scatter(df_scatter_y_test_pred['Y_test'], df_scatter_y_test_pred['Y_test_pred_4'], color='g')\n",
    "ax.scatter(df_scatter_y_test_pred['Y_test'], df_scatter_y_test_pred['Y_test_pred_4_dropout'], color='y')\n",
    "ax.scatter(df_scatter_y_test_pred['Y_test'], df_scatter_y_test_pred['Y_test_pred_3'], color='m')\n",
    "ax.plot(np.linspace(np.min(df_scatter_y_test_pred),1,100),np.linspace(np.min(df_scatter_y_test_pred),1,100))\n",
    "\n",
    "ax.set_title('predicted value against ground_truth')\n",
    "ax.set_xlabel('test')\n",
    "ax.set_ylabel('pred')\n",
    "plt.show()"
   ]
  },
  {
   "cell_type": "markdown",
   "metadata": {},
   "source": [
    "# Conclusion <a name=\"conclusion\"></a> \n",
    "[Back to top](#toc)\n",
    "\n",
    "> Optimal model is with a 4-layer network with 50 neurons/layer, no dropout\n",
    "\n",
    "Of course, this combination is due to the question. There might be better networks, just that we have not tried the combinations yet"
   ]
  }
 ],
 "metadata": {
  "kernelspec": {
   "display_name": "cz4042_env",
   "language": "python",
   "name": "cz4042_env"
  },
  "language_info": {
   "codemirror_mode": {
    "name": "ipython",
    "version": 3
   },
   "file_extension": ".py",
   "mimetype": "text/x-python",
   "name": "python",
   "nbconvert_exporter": "python",
   "pygments_lexer": "ipython3",
   "version": "3.7.9"
  }
 },
 "nbformat": 4,
 "nbformat_minor": 4
}
