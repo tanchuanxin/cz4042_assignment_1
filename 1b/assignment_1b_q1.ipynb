{
 "cells": [
  {
   "cell_type": "markdown",
   "metadata": {},
   "source": [
    "# assignment_1b question 1\n",
    "\n",
    "# Table of Contents <a name=\"toc\"></a>\n",
    "\n",
    "* [Imports](#imports)\n",
    "* [Global](#global)\n",
    "* [Helper Functions](#helper_functions)\n",
    "* [Question 1: Convergence](#convergence)\n",
    "    * [Model Parameters](#model_parameters)\n",
    "    * [Create the Model](#create_the_model)\n",
    "    * [Run the Model](#run_the_model)\n",
    "    * [Save and Load Data Objects](#save_and_load_data_objects)\n",
    "    * [Plot Model Performance](#plot_model_performance)\n",
    "    * [Comparing Models](#comparing_models)\n",
    "    * [Eyeballing Convergence](#eyeballing_convergence)\n",
    "    * [Try Test Set](#try_test_set)\n",
    "* [Conclusion](#conclusion)"
   ]
  },
  {
   "cell_type": "markdown",
   "metadata": {},
   "source": [
    "# Imports <a name=\"imports\"></a> \n",
    "[Back to top](#toc)"
   ]
  },
  {
   "cell_type": "code",
   "execution_count": 113,
   "metadata": {},
   "outputs": [],
   "source": [
    "import tensorflow as tf\n",
    "import numpy as np\n",
    "import matplotlib.pyplot as plt\n",
    "import pandas as pd\n",
    "import seaborn as sns\n",
    "import json\n",
    "\n",
    "from tensorflow import keras\n",
    "from tqdm.keras import TqdmCallback\n",
    "from sklearn import preprocessing\n",
    "from sklearn.model_selection import train_test_split"
   ]
  },
  {
   "cell_type": "code",
   "execution_count": 114,
   "metadata": {},
   "outputs": [
    {
     "name": "stdout",
     "output_type": "stream",
     "text": [
      "Data loaded\n"
     ]
    }
   ],
   "source": [
    "X_train = np.load('data/X_train.npy')\n",
    "X_test = np.load('data/X_test.npy')\n",
    "Y_train = np.load('data/Y_train.npy')\n",
    "Y_test = np.load('data/Y_test.npy')\n",
    "print(\"Data loaded\")"
   ]
  },
  {
   "cell_type": "markdown",
   "metadata": {},
   "source": [
    "# Global <a name=\"global\"></a> \n",
    "[Back to top](#toc)"
   ]
  },
  {
   "cell_type": "code",
   "execution_count": 115,
   "metadata": {},
   "outputs": [],
   "source": [
    "seed = 10\n",
    "np.random.seed(seed)\n",
    "tf.random.set_seed(seed)\n",
    "\n",
    "# data objects\n",
    "histories = {}"
   ]
  },
  {
   "cell_type": "markdown",
   "metadata": {},
   "source": [
    "# Helper Functions <a name=\"helper_functions\"></a> \n",
    "[Back to top](#toc)"
   ]
  },
  {
   "cell_type": "markdown",
   "metadata": {},
   "source": [
    "### histories_saver()"
   ]
  },
  {
   "cell_type": "code",
   "execution_count": 116,
   "metadata": {},
   "outputs": [],
   "source": [
    "# filename like 'data/q0_histories.json'\n",
    "def histories_saver(histories, filename, already_json=False):\n",
    "    histories_json = {}\n",
    "    \n",
    "    if already_json:\n",
    "        histories_json = histories\n",
    "    else:\n",
    "        for key in histories.keys():\n",
    "            histories_json[key] = histories[key].history\n",
    "\n",
    "    with open(filename, 'w') as file:\n",
    "        json.dump(histories_json, file)\n",
    "\n",
    "    print(\"Histories saved\")"
   ]
  },
  {
   "cell_type": "markdown",
   "metadata": {},
   "source": [
    "### histories_loader()"
   ]
  },
  {
   "cell_type": "code",
   "execution_count": 117,
   "metadata": {},
   "outputs": [],
   "source": [
    "# filename like 'data/q0_histories.json'\n",
    "def histories_loader(filename):\n",
    "    with open(filename) as json_file:\n",
    "        histories = json.load(json_file)\n",
    "    print('Histories loaded')\n",
    "    \n",
    "    return histories "
   ]
  },
  {
   "cell_type": "markdown",
   "metadata": {},
   "source": [
    "### plot_history_object()"
   ]
  },
  {
   "cell_type": "code",
   "execution_count": 118,
   "metadata": {},
   "outputs": [],
   "source": [
    "def plot_history_object(histories, model_name, history_object, plot_val=True, max=None):    \n",
    "    if max==None:\n",
    "        plt.plot(histories[model_name][history_object], label='train_'+history_object)\n",
    "\n",
    "        if plot_val:\n",
    "            plt.plot(histories[model_name]['val_'+history_object], label='val_'+history_object)\n",
    "    else:\n",
    "        plt.plot(histories[model_name][history_object][:max], label='train_'+history_object)\n",
    "\n",
    "        if plot_val:\n",
    "            plt.plot(histories[model_name]['val_'+history_object][:max], label='val_'+history_object)\n",
    "            \n",
    "    plt.title(history_object + ' against epochs')\n",
    "    plt.ylabel(history_object)\n",
    "    plt.xlabel('epochs')\n",
    "    plt.legend(loc=\"center right\")\n",
    "    plt.show()"
   ]
  },
  {
   "cell_type": "markdown",
   "metadata": {},
   "source": [
    "### TestCallback()"
   ]
  },
  {
   "cell_type": "code",
   "execution_count": 119,
   "metadata": {},
   "outputs": [],
   "source": [
    "# custom callback to evaluate the test set at each epoch\n",
    "class TestCallback(keras.callbacks.Callback):\n",
    "    def __init__(self, X_test, Y_test):\n",
    "        self.X_test = X_test\n",
    "        self.Y_test = Y_test\n",
    "\n",
    "    def on_epoch_end(self, epoch, logs={}):\n",
    "        loss, mse = self.model.evaluate(self.X_test, self.Y_test, verbose=0)\n",
    "        \n",
    "        histories_test['test_values']['mse'].append(mse)\n",
    "        histories_test['test_values']['loss'].append(loss)"
   ]
  },
  {
   "cell_type": "markdown",
   "metadata": {},
   "source": [
    "# Question 1: Convergence  <a name=\"convergence\"></a>\n",
    "[Back to top](#toc)\n",
    "\n",
    "<i>Design a 3-layer feedforward neural network consists of an input layer, a hidden-layer of 10 neurons having ReLU activation functions, and a linear output layer. Use mini-batch gradient descent with a batch size = 8, 𝐿2 regularization at weight decay parameter 𝛽 = 10−3 and a learning rate 𝛼 = 10−3 to train the network.\n",
    "\n",
    "* a) Use the train dataset to train the model and plot both the train and test errors against epochs.\n",
    "* b) State the approximate number of epochs where the test error is minimum and use it to stop training.\n",
    "* c) Plot the predicted values and target values for any 50 test samples.</i>"
   ]
  },
  {
   "cell_type": "markdown",
   "metadata": {},
   "source": [
    "### Model Parameters <a name=\"model_parameters\"></a> \n",
    "[Back to top](#toc)\n",
    "\n",
    "Loss function of choice is ```keras.losses.MeanSquaredError()```\n",
    "\n",
    "This loss function is for a regression problem"
   ]
  },
  {
   "cell_type": "code",
   "execution_count": 120,
   "metadata": {},
   "outputs": [
    {
     "data": {
      "application/vnd.jupyter.widget-view+json": {
       "model_id": "145ee082188d4851bfc227d736bf3035",
       "version_major": 2,
       "version_minor": 0
      },
      "text/plain": [
       "HBox(children=(HTML(value=''), FloatProgress(value=1.0, bar_style='info', layout=Layout(width='20px'), max=1.0…"
      ]
     },
     "metadata": {},
     "output_type": "display_data"
    },
    {
     "data": {
      "application/vnd.jupyter.widget-view+json": {
       "model_id": "",
       "version_major": 2,
       "version_minor": 0
      },
      "text/plain": [
       "HBox(children=(HTML(value=''), FloatProgress(value=1.0, bar_style='info', layout=Layout(width='20px'), max=1.0…"
      ]
     },
     "metadata": {},
     "output_type": "display_data"
    },
    {
     "name": "stdout",
     "output_type": "stream",
     "text": [
      "Model Parameters set\n"
     ]
    }
   ],
   "source": [
    "num_neurons = 10\n",
    "\n",
    "weight_decay_parameter = 10e-3\n",
    "regularization = keras.regularizers.l2(weight_decay_parameter)\n",
    "\n",
    "learning_rate= 10e-3\n",
    "optimizer = keras.optimizers.SGD(learning_rate=learning_rate)\n",
    "\n",
    "loss = keras.losses.MeanSquaredError()\n",
    "metrics = ['mse']\n",
    "\n",
    "validation_split = 0.3\n",
    "epochs = 500\n",
    "batch_size = 8\n",
    "\n",
    "callbacks = [TqdmCallback(verbose=1)]\n",
    "\n",
    "print(\"Model Parameters set\")"
   ]
  },
  {
   "cell_type": "markdown",
   "metadata": {},
   "source": [
    "### Create the model <a name=\"create_the_model\"></a> \n",
    "[Back to top](#toc)"
   ]
  },
  {
   "cell_type": "code",
   "execution_count": 121,
   "metadata": {},
   "outputs": [],
   "source": [
    "def create_model(num_neurons, regularization, optimizer, loss, metrics):\n",
    "    model = keras.Sequential([\n",
    "        keras.layers.Dense(num_neurons, activation='relu', kernel_regularizer=regularization),\n",
    "        keras.layers.Dense(1, activation='linear')\n",
    "    ])\n",
    "    \n",
    "    model.compile(optimizer=optimizer,\n",
    "              loss=loss,\n",
    "              metrics=metrics)\n",
    "    \n",
    "    print(\"Model created\")\n",
    "    return model"
   ]
  },
  {
   "cell_type": "code",
   "execution_count": 122,
   "metadata": {},
   "outputs": [],
   "source": [
    "def fit_model(X_train, Y_train, model_name, model, validation_split, epochs, batch_size, callbacks):\n",
    "    print(\"Training \", model_name)\n",
    "    \n",
    "    history = model.fit(X_train, Y_train,\n",
    "                            validation_split=validation_split,\n",
    "                            epochs=epochs,\n",
    "                            batch_size=batch_size,  \n",
    "                            callbacks=callbacks,\n",
    "                            verbose = 0)    \n",
    "                            \n",
    "    return model, history"
   ]
  },
  {
   "cell_type": "markdown",
   "metadata": {},
   "source": [
    "### Run the model <a name=\"run_the_model\"></a> \n",
    "[Back to top](#toc)"
   ]
  },
  {
   "cell_type": "code",
   "execution_count": 123,
   "metadata": {},
   "outputs": [
    {
     "name": "stdout",
     "output_type": "stream",
     "text": [
      "Model created\n"
     ]
    },
    {
     "data": {
      "application/vnd.jupyter.widget-view+json": {
       "model_id": "5ce3f303a64b4879899697b7b60a0c68",
       "version_major": 2,
       "version_minor": 0
      },
      "text/plain": [
       "HBox(children=(HTML(value=''), FloatProgress(value=1.0, bar_style='info', layout=Layout(width='20px'), max=1.0…"
      ]
     },
     "metadata": {},
     "output_type": "display_data"
    },
    {
     "data": {
      "application/vnd.jupyter.widget-view+json": {
       "model_id": "",
       "version_major": 2,
       "version_minor": 0
      },
      "text/plain": [
       "HBox(children=(HTML(value=''), FloatProgress(value=1.0, bar_style='info', layout=Layout(width='20px'), max=1.0…"
      ]
     },
     "metadata": {},
     "output_type": "display_data"
    },
    {
     "name": "stdout",
     "output_type": "stream",
     "text": [
      "Training  convergence_train\n",
      "WARNING:tensorflow:Callbacks method `on_train_batch_end` is slow compared to the batch time (batch time: 0.0000s vs `on_train_batch_end` time: 0.0010s). Check your callbacks.\n",
      "\n",
      "\n"
     ]
    }
   ],
   "source": [
    "model = create_model(num_neurons, regularization, optimizer, loss, metrics)\n",
    "model_name = 'convergence_train'\n",
    "\n",
    "# create a new time_callback for every run\n",
    "callbacks = [TqdmCallback(verbose=1)]\n",
    "\n",
    "model_convergence_train, histories[model_name] = fit_model(X_train, Y_train, model_name, model, validation_split, epochs, batch_size, callbacks)"
   ]
  },
  {
   "cell_type": "markdown",
   "metadata": {},
   "source": [
    "### Save and Load Data Objects <a name=\"save_and_load_data_objects\"></a> \n",
    "[Back to top](#toc)"
   ]
  },
  {
   "cell_type": "code",
   "execution_count": 124,
   "metadata": {},
   "outputs": [
    {
     "name": "stdout",
     "output_type": "stream",
     "text": [
      "Histories saved\n",
      "Histories loaded\n"
     ]
    }
   ],
   "source": [
    "histories_saver(histories, \"data/q1_histories.json\")\n",
    "\n",
    "histories = histories_loader(\"data/q1_histories.json\")"
   ]
  },
  {
   "cell_type": "markdown",
   "metadata": {},
   "source": [
    "### Plot Model Performance <a name=\"plot_model_performance\"></a> \n",
    "[Back to top](#toc)"
   ]
  },
  {
   "cell_type": "code",
   "execution_count": 125,
   "metadata": {
    "scrolled": true
   },
   "outputs": [
    {
     "name": "stdout",
     "output_type": "stream",
     "text": [
      "Model:  convergence_train\n"
     ]
    },
    {
     "data": {
      "image/png": "[encoded data removed]",
      "text/plain": [
       "<Figure size 432x288 with 1 Axes>"
      ]
     },
     "metadata": {
      "needs_background": "light"
     },
     "output_type": "display_data"
    },
    {
     "data": {
      "image/png": "[encoded data removed]",
      "text/plain": [
       "<Figure size 432x288 with 1 Axes>"
      ]
     },
     "metadata": {
      "needs_background": "light"
     },
     "output_type": "display_data"
    }
   ],
   "source": [
    "for model_name in histories.keys():\n",
    "    print('Model: ', model_name)\n",
    "    for history_object in ['loss', 'mse']:\n",
    "        plot_history_object(histories, model_name, history_object)"
   ]
  },
  {
   "cell_type": "markdown",
   "metadata": {},
   "source": [
    "### Comparing Models <a name=\"comparing_models\"></a> \n",
    "[Back to top](#toc)"
   ]
  },
  {
   "cell_type": "markdown",
   "metadata": {},
   "source": [
    "<b>loss (regularized) vs mse</b>\n",
    "\n",
    "We can see that while the ```loss``` (regularized) takes about 300 epochs to reach convergence, the ```mse``` already has achieved convergence well before 100 epochs. This is largely due to the penalty of regularization on the loss\n",
    "\n",
    "However, graphs looked a little zoomed out. Let's zoom in"
   ]
  },
  {
   "cell_type": "code",
   "execution_count": 126,
   "metadata": {
    "scrolled": true
   },
   "outputs": [
    {
     "name": "stdout",
     "output_type": "stream",
     "text": [
      "Model:  convergence_train\n"
     ]
    },
    {
     "data": {
      "image/png": "[encoded data removed]",
      "text/plain": [
       "<Figure size 432x288 with 1 Axes>"
      ]
     },
     "metadata": {
      "needs_background": "light"
     },
     "output_type": "display_data"
    },
    {
     "data": {
      "image/png": "[encoded data removed]",
      "text/plain": [
       "<Figure size 432x288 with 1 Axes>"
      ]
     },
     "metadata": {
      "needs_background": "light"
     },
     "output_type": "display_data"
    }
   ],
   "source": [
    "for model_name in histories.keys():\n",
    "    print('Model: ', model_name)\n",
    "    for history_object in ['loss', 'mse']:\n",
    "        plot_history_object(histories, model_name, history_object, max=400)"
   ]
  },
  {
   "cell_type": "markdown",
   "metadata": {},
   "source": [
    "### Eyeballing Convergence <a name=\"eyeballing_convergence\"></a> \n",
    "[Back to top](#toc)\n",
    "\n",
    "> It appears that ```epochs=400``` is sufficient to achieve convergence for the loss"
   ]
  },
  {
   "cell_type": "markdown",
   "metadata": {},
   "source": [
    "### Try Test Set <a name=\"try_test_set\"></a> \n",
    "[Back to top](#toc)\n",
    "\n",
    "We shall use ```epochs=400``` to check the performance of the model on the test set"
   ]
  },
  {
   "cell_type": "code",
   "execution_count": 127,
   "metadata": {},
   "outputs": [
    {
     "data": {
      "application/vnd.jupyter.widget-view+json": {
       "model_id": "c1b40a8bf7434e95b47eeb53e31d9ea4",
       "version_major": 2,
       "version_minor": 0
      },
      "text/plain": [
       "HBox(children=(HTML(value=''), FloatProgress(value=1.0, bar_style='info', layout=Layout(width='20px'), max=1.0…"
      ]
     },
     "metadata": {},
     "output_type": "display_data"
    },
    {
     "data": {
      "application/vnd.jupyter.widget-view+json": {
       "model_id": "",
       "version_major": 2,
       "version_minor": 0
      },
      "text/plain": [
       "HBox(children=(HTML(value=''), FloatProgress(value=1.0, bar_style='info', layout=Layout(width='20px'), max=1.0…"
      ]
     },
     "metadata": {},
     "output_type": "display_data"
    }
   ],
   "source": [
    "# the optimized parameter and custome callback\n",
    "epochs = 400\n",
    "callbacks = [TqdmCallback(verbose=1), TestCallback(X_test, Y_test)] \n",
    "\n",
    "# the history object to keep performance of X_test Y_test from hinal model\n",
    "histories_test = {\n",
    "    'test_values': {\n",
    "        'loss': [],\n",
    "        'mse': []\n",
    "    }\n",
    "}\n",
    "\n",
    "# the history object to keep performance of X_train Y_train from final model\n",
    "histories_final = {}"
   ]
  },
  {
   "cell_type": "code",
   "execution_count": 128,
   "metadata": {
    "scrolled": false
   },
   "outputs": [
    {
     "name": "stdout",
     "output_type": "stream",
     "text": [
      "Model created\n",
      "Training  train_values\n",
      "\n",
      "Histories saved\n",
      "Histories loaded\n",
      "Histories saved\n",
      "Histories loaded\n"
     ]
    }
   ],
   "source": [
    "model = create_model(num_neurons, regularization, optimizer, loss, metrics)\n",
    "model_name = 'train_values'\n",
    "model_convergence_test, histories_final[model_name] = fit_model(X_train, Y_train, model_name, model, validation_split, epochs, batch_size, callbacks)\n",
    "\n",
    "# the history\n",
    "histories_saver(histories_final, \"data/q1_histories_final.json\")\n",
    "histories_final = histories_loader(\"data/q1_histories_final.json\")\n",
    "\n",
    "histories_final['test_values'] = histories_test['test_values']\n",
    "\n",
    "histories_saver(histories_final, \"data/q1_histories_final.json\", already_json=True)\n",
    "histories_final = histories_loader(\"data/q1_histories_final.json\")"
   ]
  },
  {
   "cell_type": "markdown",
   "metadata": {},
   "source": [
    "> ### a) Use the train dataset to train the model and plot both the train and test errors against epochs"
   ]
  },
  {
   "cell_type": "code",
   "execution_count": 129,
   "metadata": {},
   "outputs": [
    {
     "data": {
      "image/png": "[encoded data removed]",
      "text/plain": [
       "<Figure size 432x288 with 1 Axes>"
      ]
     },
     "metadata": {
      "needs_background": "light"
     },
     "output_type": "display_data"
    },
    {
     "data": {
      "image/png": "[encoded data removed]",
      "text/plain": [
       "<Figure size 432x288 with 1 Axes>"
      ]
     },
     "metadata": {
      "needs_background": "light"
     },
     "output_type": "display_data"
    }
   ],
   "source": [
    "for history_object in ['loss', 'mse']:\n",
    "    for model_name in histories_final.keys():\n",
    "        plt.plot(histories_final[model_name][history_object], label=model_name)\n",
    "\n",
    "    plt.title(history_object + ' against epochs')\n",
    "    plt.ylabel(history_object)\n",
    "    plt.xlabel('epochs')\n",
    "    plt.legend(loc=\"center right\")\n",
    "    plt.show()"
   ]
  },
  {
   "cell_type": "markdown",
   "metadata": {},
   "source": [
    "# Conclusion <a name=\"conclusion\"></a> \n",
    "[Back to top](#toc)\n",
    "\n",
    "> ### b) State the approximate number of epochs where the test error begin to converge\n",
    "\n",
    "> 400 epochs appears to be more than sufficient to get a reasonable convergence "
   ]
  },
  {
   "cell_type": "markdown",
   "metadata": {},
   "source": [
    "> ### c) Plot the predicted values and target values for any 50 test samples."
   ]
  },
  {
   "cell_type": "code",
   "execution_count": 130,
   "metadata": {},
   "outputs": [],
   "source": [
    "Y_test_pred = model_convergence_test.predict(X_test)\n",
    "Y_test_pred = Y_test_pred.reshape(1,120)[0]"
   ]
  },
  {
   "cell_type": "code",
   "execution_count": 131,
   "metadata": {},
   "outputs": [],
   "source": [
    "df_Y_test_pred = pd.DataFrame(Y_test_pred, columns =['Y_test_pred']) \n",
    "df_Y_test = pd.DataFrame(Y_test, columns =['Y_test']) \n",
    "df_scatter_y_test_pred = pd.concat([df_Y_test_pred, df_Y_test], axis=1)"
   ]
  },
  {
   "cell_type": "code",
   "execution_count": 132,
   "metadata": {
    "scrolled": true
   },
   "outputs": [
    {
     "name": "stdout",
     "output_type": "stream",
     "text": [
      "Int64Index([ 45,  79,  56,  85,  99,  41,  81, 110,  48,   2,  53,  52,  94,\n",
      "             43,  80,   1,  10,  35,  47,  26,  68,  82,  37,  19,  14,  39,\n",
      "             38,  63, 104, 111,   3,  75,  70, 108,  97, 115, 116,  67,  61,\n",
      "             83,  84,  91,  76,  42,  21,   6,  95, 112, 103,  71],\n",
      "           dtype='int64')\n"
     ]
    },
    {
     "data": {
      "text/html": [
       "<div>\n",
       "<style scoped>\n",
       "    .dataframe tbody tr th:only-of-type {\n",
       "        vertical-align: middle;\n",
       "    }\n",
       "\n",
       "    .dataframe tbody tr th {\n",
       "        vertical-align: top;\n",
       "    }\n",
       "\n",
       "    .dataframe thead th {\n",
       "        text-align: right;\n",
       "    }\n",
       "</style>\n",
       "<table border=\"1\" class=\"dataframe\">\n",
       "  <thead>\n",
       "    <tr style=\"text-align: right;\">\n",
       "      <th></th>\n",
       "      <th>Y_test_pred</th>\n",
       "      <th>Y_test</th>\n",
       "    </tr>\n",
       "  </thead>\n",
       "  <tbody>\n",
       "    <tr>\n",
       "      <th>45</th>\n",
       "      <td>0.741714</td>\n",
       "      <td>0.77</td>\n",
       "    </tr>\n",
       "    <tr>\n",
       "      <th>79</th>\n",
       "      <td>0.536456</td>\n",
       "      <td>0.44</td>\n",
       "    </tr>\n",
       "    <tr>\n",
       "      <th>56</th>\n",
       "      <td>0.728814</td>\n",
       "      <td>0.75</td>\n",
       "    </tr>\n",
       "    <tr>\n",
       "      <th>85</th>\n",
       "      <td>0.646655</td>\n",
       "      <td>0.62</td>\n",
       "    </tr>\n",
       "    <tr>\n",
       "      <th>99</th>\n",
       "      <td>0.659853</td>\n",
       "      <td>0.50</td>\n",
       "    </tr>\n",
       "  </tbody>\n",
       "</table>\n",
       "</div>"
      ],
      "text/plain": [
       "    Y_test_pred  Y_test\n",
       "45     0.741714    0.77\n",
       "79     0.536456    0.44\n",
       "56     0.728814    0.75\n",
       "85     0.646655    0.62\n",
       "99     0.659853    0.50"
      ]
     },
     "execution_count": 132,
     "metadata": {},
     "output_type": "execute_result"
    }
   ],
   "source": [
    "df_scatter_y_test_pred = df_scatter_y_test_pred.sample(n=50, random_state=seed)\n",
    "scatter_index = df_scatter_y_test_pred.index\n",
    "print(scatter_index)\n",
    "df_scatter_y_test_pred.head()"
   ]
  },
  {
   "cell_type": "markdown",
   "metadata": {},
   "source": [
    "##### First view: plotting pred+ground_truth pairs"
   ]
  },
  {
   "cell_type": "code",
   "execution_count": 133,
   "metadata": {
    "scrolled": true
   },
   "outputs": [
    {
     "data": {
      "image/png": "[encoded data removed]",
      "text/plain": [
       "<Figure size 432x288 with 1 Axes>"
      ]
     },
     "metadata": {
      "needs_background": "light"
     },
     "output_type": "display_data"
    }
   ],
   "source": [
    "fig=plt.figure()\n",
    "ax=fig.add_axes([0,0,1,1])\n",
    "ax.scatter(np.arange(50), df_scatter_y_test_pred['Y_test_pred'], color='r', label='pred')\n",
    "ax.scatter(np.arange(50), df_scatter_y_test_pred['Y_test'], color='b', label='ground_truth')\n",
    "ax.set_title('pred/ground truth as pairs')\n",
    "ax.set_xlabel('nth test data - not representative of index')\n",
    "ax.set_ylabel('Probability')\n",
    "ax.legend()\n",
    "plt.show()"
   ]
  },
  {
   "cell_type": "markdown",
   "metadata": {},
   "source": [
    "##### Second view: predicted value against ground truth\n",
    "\n",
    "If a datapoint lies on the y=x line, it represents a perfect prediction"
   ]
  },
  {
   "cell_type": "code",
   "execution_count": 134,
   "metadata": {
    "scrolled": false
   },
   "outputs": [
    {
     "data": {
      "image/png": "[encoded data removed]",
      "text/plain": [
       "<Figure size 432x288 with 1 Axes>"
      ]
     },
     "metadata": {
      "needs_background": "light"
     },
     "output_type": "display_data"
    }
   ],
   "source": [
    "fig=plt.figure()\n",
    "ax=fig.add_axes([0,0,1,1])\n",
    "ax.scatter(df_scatter_y_test_pred['Y_test'], df_scatter_y_test_pred['Y_test_pred'], color='b')\n",
    "ax.plot(np.linspace(np.min(df_scatter_y_test_pred),1,100),np.linspace(np.min(df_scatter_y_test_pred),1,100))\n",
    "ax.set_title('predicted value against ground_truth')\n",
    "ax.set_xlabel('ground_truth')\n",
    "ax.set_ylabel('pred')\n",
    "plt.show()"
   ]
  }
 ],
 "metadata": {
  "kernelspec": {
   "display_name": "cz4042_env",
   "language": "python",
   "name": "cz4042_env"
  },
  "language_info": {
   "codemirror_mode": {
    "name": "ipython",
    "version": 3
   },
   "file_extension": ".py",
   "mimetype": "text/x-python",
   "name": "python",
   "nbconvert_exporter": "python",
   "pygments_lexer": "ipython3",
   "version": "3.7.9"
  }
 },
 "nbformat": 4,
 "nbformat_minor": 4
}
