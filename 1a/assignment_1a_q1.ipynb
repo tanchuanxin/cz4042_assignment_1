{
 "cells": [
  {
   "cell_type": "markdown",
   "metadata": {},
   "source": [
    "# assignment_1a question 1\n",
    "\n",
    "# Table of Contents <a name=\"toc\"></a>\n",
    "\n",
    "* [Imports](#imports)\n",
    "* [Global](#global)\n",
    "* [Helper Functions](#helper_functions)\n",
    "* [Question 1: Convergence](#convergence)\n",
    "    * [Model Parameters](#model_parameters)\n",
    "    * [Create the Model](#create_the_model)\n",
    "    * [Run the Model](#run_the_model)\n",
    "    * [Save and Load Data Objects](#save_and_load_data_objects)\n",
    "    * [Plot Model Performance](#plot_model_performance)\n",
    "    * [Comparing Models](#comparing_models)\n",
    "    * [Eyeballing Convergence](#eyeballing_convergence)\n",
    "    * [Try Test Set](#try_test_set)\n",
    "* [Conclusion](#conclusion)"
   ]
  },
  {
   "cell_type": "markdown",
   "metadata": {},
   "source": [
    "# Imports <a name=\"imports\"></a> \n",
    "[Back to top](#toc)"
   ]
  },
  {
   "cell_type": "code",
   "execution_count": 1,
   "metadata": {},
   "outputs": [],
   "source": [
    "import tensorflow as tf\n",
    "import numpy as np\n",
    "import matplotlib.pyplot as plt\n",
    "import pandas as pd\n",
    "import seaborn as sns\n",
    "import json\n",
    "\n",
    "from tensorflow import keras\n",
    "from tqdm.keras import TqdmCallback\n",
    "from sklearn import preprocessing\n",
    "from sklearn.model_selection import train_test_split"
   ]
  },
  {
   "cell_type": "code",
   "execution_count": 2,
   "metadata": {},
   "outputs": [
    {
     "name": "stdout",
     "output_type": "stream",
     "text": [
      "Data loaded\n"
     ]
    }
   ],
   "source": [
    "X_train = np.load('data/X_train.npy')\n",
    "X_test = np.load('data/X_test.npy')\n",
    "Y_train = np.load('data/Y_train.npy')\n",
    "Y_test = np.load('data/Y_test.npy')\n",
    "print(\"Data loaded\")"
   ]
  },
  {
   "cell_type": "markdown",
   "metadata": {},
   "source": [
    "# Global <a name=\"global\"></a> \n",
    "[Back to top](#toc)"
   ]
  },
  {
   "cell_type": "code",
   "execution_count": 3,
   "metadata": {},
   "outputs": [],
   "source": [
    "seed = 10\n",
    "np.random.seed(seed)\n",
    "tf.random.set_seed(seed)\n",
    "\n",
    "# data objects\n",
    "histories = {}"
   ]
  },
  {
   "cell_type": "markdown",
   "metadata": {},
   "source": [
    "# Helper Functions <a name=\"helper_functions\"></a> \n",
    "[Back to top](#toc)"
   ]
  },
  {
   "cell_type": "markdown",
   "metadata": {},
   "source": [
    "### histories_saver()"
   ]
  },
  {
   "cell_type": "code",
   "execution_count": 4,
   "metadata": {},
   "outputs": [],
   "source": [
    "# filename like 'data/q0_histories.json'\n",
    "def histories_saver(histories, filename, already_json=False):\n",
    "    histories_json = {}\n",
    "    \n",
    "    if already_json:\n",
    "        histories_json = histories\n",
    "    else:\n",
    "        for key in histories.keys():\n",
    "            histories_json[key] = histories[key].history\n",
    "\n",
    "    with open(filename, 'w') as file:\n",
    "        json.dump(histories_json, file)\n",
    "\n",
    "    print(\"Histories saved\")"
   ]
  },
  {
   "cell_type": "markdown",
   "metadata": {},
   "source": [
    "### histories_loader()"
   ]
  },
  {
   "cell_type": "code",
   "execution_count": 5,
   "metadata": {},
   "outputs": [],
   "source": [
    "# filename like 'data/q0_histories.json'\n",
    "def histories_loader(filename):\n",
    "    with open(filename) as json_file:\n",
    "        histories = json.load(json_file)\n",
    "    print('Histories loaded')\n",
    "    \n",
    "    return histories "
   ]
  },
  {
   "cell_type": "markdown",
   "metadata": {},
   "source": [
    "### plot_history_object()"
   ]
  },
  {
   "cell_type": "code",
   "execution_count": 6,
   "metadata": {},
   "outputs": [],
   "source": [
    "def plot_history_object(histories, model_name, history_object, plot_val=True):    \n",
    "    plt.plot(histories[model_name][history_object], label='train_'+history_object)\n",
    "    \n",
    "    if plot_val:\n",
    "        plt.plot(histories[model_name]['val_'+history_object], label='val_'+history_object)\n",
    "    \n",
    "    plt.title(history_object + ' against epochs')\n",
    "    plt.ylabel(history_object)\n",
    "    plt.xlabel('epochs')\n",
    "    plt.legend(loc=\"center right\")\n",
    "    plt.show()"
   ]
  },
  {
   "cell_type": "markdown",
   "metadata": {},
   "source": [
    "### TestCallback()"
   ]
  },
  {
   "cell_type": "code",
   "execution_count": null,
   "metadata": {},
   "outputs": [],
   "source": [
    "# custom callback to evaluate the test set at each epoch\n",
    "class TestCallback(keras.callbacks.Callback):\n",
    "    def __init__(self, X_test, Y_test):\n",
    "        self.X_test = X_test\n",
    "        self.Y_test = Y_test\n",
    "\n",
    "    def on_epoch_end(self, epoch, logs={}):\n",
    "        loss, accuracy, sparse_categorical_crossentropy = self.model.evaluate(self.X_test, self.Y_test, verbose=0)\n",
    "        \n",
    "        histories_test['test_values']['accuracy'].append(accuracy)\n",
    "        histories_test['test_values']['loss'].append(loss)\n",
    "        histories_test['test_values']['sparse_categorical_crossentropy'].append(sparse_categorical_crossentropy)"
   ]
  },
  {
   "cell_type": "markdown",
   "metadata": {},
   "source": [
    "# Question 1: Convergence  <a name=\"convergence\"></a>\n",
    "[Back to top](#toc)"
   ]
  },
  {
   "cell_type": "markdown",
   "metadata": {},
   "source": [
    "<i>Design a feedforward neural network which consists of an input layer, one hidden layer of 10 neurons with ReLU activation function, and an output softmax layer. Assume a learning rate 𝛼 = 0.01, L2 regularization with weight decay parameter 𝛽 = 10−6, and batch size = 32. Use appropriate scaling of input features.\n",
    "\n",
    "* a) Use the training dataset to train the model and plot accuracies on training and testing data against training epochs.\n",
    "* b) State the approximate number of epochs where the test error begin to converge.</i>"
   ]
  },
  {
   "cell_type": "markdown",
   "metadata": {},
   "source": [
    "### Model Parameters <a name=\"model_parameters\"></a> \n",
    "[Back to top](#toc)\n",
    "\n",
    "Loss function of choice is ```keras.losses.SparseCategoricalCrossentropy(from_logits=False)```\n",
    "\n",
    "This loss function is defined as being <i>categorical crossentropy with integer targets</i>, which is what we are doing since the output is integer class label. We set ```from_logits=False``` since we have a softmax layer as the output layer"
   ]
  },
  {
   "cell_type": "code",
   "execution_count": 7,
   "metadata": {},
   "outputs": [
    {
     "data": {
      "application/vnd.jupyter.widget-view+json": {
       "model_id": "52e8414f1d5440a4b7642d7a33bdc8b1",
       "version_major": 2,
       "version_minor": 0
      },
      "text/plain": [
       "HBox(children=(HTML(value=''), FloatProgress(value=1.0, bar_style='info', layout=Layout(width='20px'), max=1.0…"
      ]
     },
     "metadata": {},
     "output_type": "display_data"
    },
    {
     "data": {
      "application/vnd.jupyter.widget-view+json": {
       "model_id": "",
       "version_major": 2,
       "version_minor": 0
      },
      "text/plain": [
       "HBox(children=(HTML(value=''), FloatProgress(value=1.0, bar_style='info', layout=Layout(width='20px'), max=1.0…"
      ]
     },
     "metadata": {},
     "output_type": "display_data"
    },
    {
     "name": "stdout",
     "output_type": "stream",
     "text": [
      "Model Parameters set\n"
     ]
    }
   ],
   "source": [
    "num_neurons = 10\n",
    "num_classes = 3\n",
    "\n",
    "weight_decay_parameter = 10e-6\n",
    "regularization = keras.regularizers.l2(weight_decay_parameter)\n",
    "\n",
    "learning_rate= 0.01\n",
    "optimizer = keras.optimizers.SGD(learning_rate=learning_rate)\n",
    "\n",
    "loss = keras.losses.SparseCategoricalCrossentropy(from_logits=False)\n",
    "metrics = ['accuracy', keras.metrics.SparseCategoricalCrossentropy(from_logits=False)]\n",
    "\n",
    "validation_split = 0.3\n",
    "epochs = 1000\n",
    "batch_size = 32\n",
    "\n",
    "callbacks = [TqdmCallback(verbose=1)]\n",
    "\n",
    "print(\"Model Parameters set\")"
   ]
  },
  {
   "cell_type": "markdown",
   "metadata": {},
   "source": [
    "To note: the model will report several metrics\n",
    "\n",
    "1. ```accuracy```\n",
    "2. ```loss```, which is the regularized loss\n",
    "3. ```sparse_categorical_crossentropy```, or ```ce```, the loss function without the regularization penalty "
   ]
  },
  {
   "cell_type": "markdown",
   "metadata": {},
   "source": [
    "### Create the model <a name=\"create_the_model\"></a> \n",
    "[Back to top](#toc)"
   ]
  },
  {
   "cell_type": "code",
   "execution_count": 8,
   "metadata": {},
   "outputs": [],
   "source": [
    "def create_model(num_neurons, num_classes, regularization, optimizer, loss, metrics):\n",
    "    model = keras.Sequential([\n",
    "        keras.layers.Dense(num_neurons, activation='relu', kernel_regularizer=regularization),\n",
    "        keras.layers.Dense(num_classes, activation='softmax')\n",
    "    ])\n",
    "    \n",
    "    model.compile(optimizer=optimizer,\n",
    "              loss=loss,\n",
    "              metrics=metrics)\n",
    "    \n",
    "    print(\"Model created\")\n",
    "    return model"
   ]
  },
  {
   "cell_type": "code",
   "execution_count": 9,
   "metadata": {},
   "outputs": [],
   "source": [
    "def fit_model(X_train, Y_train, model_name, model, validation_split, epochs, batch_size, callbacks):\n",
    "    print(\"Training \", model_name)\n",
    "    \n",
    "    history = model.fit(X_train, Y_train,\n",
    "                            validation_split=0.3,\n",
    "                            epochs=epochs,\n",
    "                            batch_size=batch_size,  \n",
    "                            callbacks=callbacks,\n",
    "                            verbose = 0)    \n",
    "                            \n",
    "    return model, history"
   ]
  },
  {
   "cell_type": "markdown",
   "metadata": {},
   "source": [
    "### Run the model <a name=\"run_the_model\"></a> \n",
    "[Back to top](#toc)"
   ]
  },
  {
   "cell_type": "code",
   "execution_count": 10,
   "metadata": {
    "scrolled": false
   },
   "outputs": [
    {
     "name": "stdout",
     "output_type": "stream",
     "text": [
      "Model created\n",
      "Training  convergence_train\n",
      "\n"
     ]
    }
   ],
   "source": [
    "model = create_model(num_neurons, num_classes, regularization, optimizer, loss, metrics)\n",
    "model_name = 'convergence_train'\n",
    "\n",
    "model_convergence_train, histories[model_name] = fit_model(X_train, Y_train, model_name, model, validation_split, epochs, batch_size, callbacks)"
   ]
  },
  {
   "cell_type": "markdown",
   "metadata": {},
   "source": [
    "### Save and Load Data Objects <a name=\"save_and_load_data_objects\"></a> \n",
    "[Back to top](#toc)"
   ]
  },
  {
   "cell_type": "code",
   "execution_count": 11,
   "metadata": {
    "scrolled": true
   },
   "outputs": [
    {
     "name": "stdout",
     "output_type": "stream",
     "text": [
      "Histories saved\n",
      "Histories loaded\n"
     ]
    }
   ],
   "source": [
    "histories_saver(histories, \"data/q1_histories.json\")\n",
    "\n",
    "histories = histories_loader(\"data/q1_histories.json\")"
   ]
  },
  {
   "cell_type": "markdown",
   "metadata": {},
   "source": [
    "### Plot Model Performance <a name=\"plot_model_performance\"></a> \n",
    "[Back to top](#toc)"
   ]
  },
  {
   "cell_type": "code",
   "execution_count": 12,
   "metadata": {
    "scrolled": true
   },
   "outputs": [
    {
     "name": "stdout",
     "output_type": "stream",
     "text": [
      "Model:  convergence_train\n"
     ]
    },
    {
     "data": {
      "image/png": "[encoded data removed]",
      "text/plain": [
       "<Figure size 432x288 with 1 Axes>"
      ]
     },
     "metadata": {
      "needs_background": "light"
     },
     "output_type": "display_data"
    },
    {
     "data": {
      "image/png": "[encoded data removed]",
      "text/plain": [
       "<Figure size 432x288 with 1 Axes>"
      ]
     },
     "metadata": {
      "needs_background": "light"
     },
     "output_type": "display_data"
    },
    {
     "data": {
      "image/png": "[encoded data removed]",
      "text/plain": [
       "<Figure size 432x288 with 1 Axes>"
      ]
     },
     "metadata": {
      "needs_background": "light"
     },
     "output_type": "display_data"
    }
   ],
   "source": [
    "for model_name in histories.keys():\n",
    "    print('Model: ', model_name)\n",
    "    for history_object in ['loss', 'accuracy', 'sparse_categorical_crossentropy']:\n",
    "        plot_history_object(histories, model_name, history_object)"
   ]
  },
  {
   "cell_type": "markdown",
   "metadata": {},
   "source": [
    "### Eyeballing Convergence <a name=\"eyeballing_convergence\"></a> \n",
    "[Back to top](#toc)\n",
    "\n",
    "We can see that the validation loss for both ```loss``` and ```ce``` has a minimum value. We will use that to estimate the number of epochs necessary to achieve convergence. "
   ]
  },
  {
   "cell_type": "code",
   "execution_count": 13,
   "metadata": {},
   "outputs": [
    {
     "name": "stdout",
     "output_type": "stream",
     "text": [
      "val_loss convergence epoch:  405\n",
      "val_ce convergence epoch:  405\n"
     ]
    }
   ],
   "source": [
    "val_loss = histories['convergence_train']['val_loss']\n",
    "print(\"val_loss convergence epoch: \", val_loss.index(min(val_loss)))\n",
    "\n",
    "val_ce = histories['convergence_train']['val_sparse_categorical_crossentropy']\n",
    "print(\"val_ce convergence epoch: \", val_ce.index(min(val_ce)))"
   ]
  },
  {
   "cell_type": "markdown",
   "metadata": {},
   "source": [
    "> 450 epochs should be a sufficient amount to achieve convergence for the models"
   ]
  },
  {
   "cell_type": "markdown",
   "metadata": {},
   "source": [
    "### Try Test Set <a name=\"try_test_set\"></a> \n",
    "[Back to top](#toc)\n",
    "\n",
    "We shall train another model with ```epochs=450``` to check the performance of the model on the test set"
   ]
  },
  {
   "cell_type": "code",
   "execution_count": 15,
   "metadata": {},
   "outputs": [
    {
     "data": {
      "application/vnd.jupyter.widget-view+json": {
       "model_id": "2dc5ae2943ee4564b2d3b189a3a9b90b",
       "version_major": 2,
       "version_minor": 0
      },
      "text/plain": [
       "HBox(children=(HTML(value=''), FloatProgress(value=1.0, bar_style='info', layout=Layout(width='20px'), max=1.0…"
      ]
     },
     "metadata": {},
     "output_type": "display_data"
    },
    {
     "data": {
      "application/vnd.jupyter.widget-view+json": {
       "model_id": "",
       "version_major": 2,
       "version_minor": 0
      },
      "text/plain": [
       "HBox(children=(HTML(value=''), FloatProgress(value=1.0, bar_style='info', layout=Layout(width='20px'), max=1.0…"
      ]
     },
     "metadata": {},
     "output_type": "display_data"
    }
   ],
   "source": [
    "# the optimized parameter and custome callback\n",
    "epochs = 450\n",
    "callbacks = [TqdmCallback(verbose=1), TestCallback(X_test, Y_test)] \n",
    "\n",
    "# the history object to keep performance of X_test Y_test from hinal model\n",
    "histories_test = {\n",
    "    'test_values': {\n",
    "        'loss': [],\n",
    "        'accuracy': [],\n",
    "        'sparse_categorical_crossentropy': []\n",
    "    }\n",
    "}\n",
    "\n",
    "# the history object to keep performance of X_train Y_train from final model\n",
    "histories_final = {}"
   ]
  },
  {
   "cell_type": "code",
   "execution_count": 16,
   "metadata": {
    "scrolled": true
   },
   "outputs": [
    {
     "name": "stdout",
     "output_type": "stream",
     "text": [
      "Model created\n",
      "Training  train_values\n",
      "\n",
      "Histories saved\n",
      "Histories loaded\n",
      "Histories saved\n",
      "Histories loaded\n"
     ]
    }
   ],
   "source": [
    "model = create_model(num_neurons, num_classes, regularization, optimizer, loss, metrics)\n",
    "model_name = 'train_values'\n",
    "model_convergence_test, histories_final[model_name] = fit_model(X_train, Y_train, model_name, model, validation_split, epochs, batch_size, callbacks)\n",
    "\n",
    "# the history\n",
    "histories_saver(histories_final, \"data/q1_histories_final.json\")\n",
    "histories_final = histories_loader(\"data/q1_histories_final.json\")\n",
    "\n",
    "histories_final['test_values'] = histories_test['test_values']\n",
    "\n",
    "histories_saver(histories_final, \"data/q1_histories_final.json\", already_json=True)\n",
    "histories_final = histories_loader(\"data/q1_histories_final.json\")"
   ]
  },
  {
   "cell_type": "markdown",
   "metadata": {},
   "source": [
    "> ### a) Use the training dataset to train the model and plot accuracies on training and testing data against training epochs."
   ]
  },
  {
   "cell_type": "code",
   "execution_count": 17,
   "metadata": {},
   "outputs": [
    {
     "data": {
      "image/png": "[encoded data removed]",
      "text/plain": [
       "<Figure size 432x288 with 1 Axes>"
      ]
     },
     "metadata": {
      "needs_background": "light"
     },
     "output_type": "display_data"
    },
    {
     "data": {
      "image/png": "[encoded data removed]",
      "text/plain": [
       "<Figure size 432x288 with 1 Axes>"
      ]
     },
     "metadata": {
      "needs_background": "light"
     },
     "output_type": "display_data"
    },
    {
     "data": {
      "image/png": "[encoded data removed]",
      "text/plain": [
       "<Figure size 432x288 with 1 Axes>"
      ]
     },
     "metadata": {
      "needs_background": "light"
     },
     "output_type": "display_data"
    }
   ],
   "source": [
    "for history_object in ['loss', 'accuracy', 'sparse_categorical_crossentropy']:\n",
    "    for model_name in histories_final.keys():\n",
    "        plt.plot(histories_final[model_name][history_object], label=model_name)\n",
    "\n",
    "    plt.title(history_object + ' against epochs')\n",
    "    plt.ylabel(history_object)\n",
    "    plt.xlabel('epochs')\n",
    "    plt.legend(loc=\"center right\")\n",
    "    plt.show()"
   ]
  },
  {
   "cell_type": "markdown",
   "metadata": {},
   "source": [
    "# Conclusion <a name=\"conclusion\"></a> \n",
    "[Back to top](#toc)\n",
    "\n",
    "> ### b) State the approximate number of epochs where the test error begin to converge\n",
    "\n",
    "> 450 epochs appears to be more than sufficient to get a reasonable convergence "
   ]
  }
 ],
 "metadata": {
  "kernelspec": {
   "display_name": "cz4042_env",
   "language": "python",
   "name": "cz4042_env"
  },
  "language_info": {
   "codemirror_mode": {
    "name": "ipython",
    "version": 3
   },
   "file_extension": ".py",
   "mimetype": "text/x-python",
   "name": "python",
   "nbconvert_exporter": "python",
   "pygments_lexer": "ipython3",
   "version": "3.7.9"
  }
 },
 "nbformat": 4,
 "nbformat_minor": 4
}
